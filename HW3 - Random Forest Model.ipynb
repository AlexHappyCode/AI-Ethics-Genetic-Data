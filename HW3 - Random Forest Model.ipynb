{
 "cells": [
  {
   "cell_type": "markdown",
   "id": "f779e6cd-c8c4-4723-bb04-8ed18d06de47",
   "metadata": {},
   "source": [
    "# Appendix I\n",
    "\n",
    "## HW3 - Analyzing Cell Cluster Data With Random Forest\n",
    "\n",
    "### By Alexander Pena\n",
    "\n",
    "#### Assisted by: Ted"
   ]
  },
  {
   "cell_type": "markdown",
   "id": "65d77d59-cdfd-480f-ba1e-21a1a4306334",
   "metadata": {},
   "source": [
    "# Library imports"
   ]
  },
  {
   "cell_type": "code",
   "execution_count": 1,
   "id": "4c105cf3-18af-4f90-9a74-a7f8202aa7f1",
   "metadata": {
    "tags": []
   },
   "outputs": [],
   "source": [
    "import os\n",
    "import warnings\n",
    "from IPython import display\n",
    "import yfinance as yf\n",
    "import datetime as dt\n",
    "import pandas as pd\n",
    "import numpy as np\n",
    "from numpy import arange\n",
    "import matplotlib.pyplot as plt\n",
    "from pandas import read_csv\n",
    "from sklearn import metrics\n",
    "from sklearn.model_selection import train_test_split\n",
    "from sklearn.ensemble import RandomForestClassifier\n",
    "from sklearn.preprocessing import StandardScaler\n",
    "from sklearn.model_selection import GridSearchCV\n",
    "from sklearn.metrics import accuracy_score\n",
    "from sklearn.metrics import confusion_matrix, plot_confusion_matrix\n",
    "from sklearn.metrics import ConfusionMatrixDisplay\n",
    "from sklearn.metrics import r2_score\n",
    "from sklearn.inspection import permutation_importance"
   ]
  },
  {
   "cell_type": "code",
   "execution_count": null,
   "id": "519ba427-42f7-4dd2-b849-d81bd7057f04",
   "metadata": {},
   "outputs": [],
   "source": []
  },
  {
   "cell_type": "markdown",
   "id": "2a6c9aa3-bef1-4ff3-80db-50490cb85bc7",
   "metadata": {},
   "source": [
    "# Data"
   ]
  },
  {
   "cell_type": "markdown",
   "id": "430c477a-6bb8-4298-8111-882dba151de1",
   "metadata": {
    "tags": []
   },
   "source": [
    "## Data Import\n",
    "\n",
    "First will look at the e1_positive.csv dataset"
   ]
  },
  {
   "cell_type": "code",
   "execution_count": 2,
   "id": "4b91df7e-f6a2-4fd5-830d-2c8c61d385e8",
   "metadata": {},
   "outputs": [
    {
     "data": {
      "text/html": [
       "<div>\n",
       "<style scoped>\n",
       "    .dataframe tbody tr th:only-of-type {\n",
       "        vertical-align: middle;\n",
       "    }\n",
       "\n",
       "    .dataframe tbody tr th {\n",
       "        vertical-align: top;\n",
       "    }\n",
       "\n",
       "    .dataframe thead th {\n",
       "        text-align: right;\n",
       "    }\n",
       "</style>\n",
       "<table border=\"1\" class=\"dataframe\">\n",
       "  <thead>\n",
       "    <tr style=\"text-align: right;\">\n",
       "      <th></th>\n",
       "      <th>GABRG2</th>\n",
       "      <th>CELF4</th>\n",
       "      <th>SRRM4</th>\n",
       "      <th>SLC1A3</th>\n",
       "      <th>ATP1A3</th>\n",
       "      <th>RBFOX3</th>\n",
       "      <th>GABRA4</th>\n",
       "      <th>NHSL1</th>\n",
       "      <th>GRAMD3</th>\n",
       "      <th>SEZ6L2</th>\n",
       "      <th>...</th>\n",
       "      <th>FERMT1</th>\n",
       "      <th>CSPG4</th>\n",
       "      <th>GJA1</th>\n",
       "      <th>LAMA1</th>\n",
       "      <th>YAP1</th>\n",
       "      <th>LINC00639.2</th>\n",
       "      <th>SMOC1</th>\n",
       "      <th>LINC00498</th>\n",
       "      <th>GFRA1</th>\n",
       "      <th>Label</th>\n",
       "    </tr>\n",
       "  </thead>\n",
       "  <tbody>\n",
       "    <tr>\n",
       "      <th>0</th>\n",
       "      <td>35.038262</td>\n",
       "      <td>161.176004</td>\n",
       "      <td>68.074337</td>\n",
       "      <td>58.063405</td>\n",
       "      <td>20.021864</td>\n",
       "      <td>269.294069</td>\n",
       "      <td>188.205520</td>\n",
       "      <td>0.000000</td>\n",
       "      <td>0.0</td>\n",
       "      <td>0.000000</td>\n",
       "      <td>...</td>\n",
       "      <td>0.0</td>\n",
       "      <td>0.0</td>\n",
       "      <td>0.0</td>\n",
       "      <td>0.0</td>\n",
       "      <td>0.0</td>\n",
       "      <td>0.000000</td>\n",
       "      <td>1.001093</td>\n",
       "      <td>0.0</td>\n",
       "      <td>0.0</td>\n",
       "      <td>0</td>\n",
       "    </tr>\n",
       "    <tr>\n",
       "      <th>1</th>\n",
       "      <td>95.324867</td>\n",
       "      <td>75.256474</td>\n",
       "      <td>87.297510</td>\n",
       "      <td>0.000000</td>\n",
       "      <td>18.061554</td>\n",
       "      <td>342.166102</td>\n",
       "      <td>683.328784</td>\n",
       "      <td>0.000000</td>\n",
       "      <td>0.0</td>\n",
       "      <td>1.003420</td>\n",
       "      <td>...</td>\n",
       "      <td>0.0</td>\n",
       "      <td>0.0</td>\n",
       "      <td>0.0</td>\n",
       "      <td>0.0</td>\n",
       "      <td>0.0</td>\n",
       "      <td>0.000000</td>\n",
       "      <td>1.003420</td>\n",
       "      <td>0.0</td>\n",
       "      <td>0.0</td>\n",
       "      <td>0</td>\n",
       "    </tr>\n",
       "    <tr>\n",
       "      <th>2</th>\n",
       "      <td>220.143867</td>\n",
       "      <td>187.976727</td>\n",
       "      <td>42.219372</td>\n",
       "      <td>106.553653</td>\n",
       "      <td>0.000000</td>\n",
       "      <td>187.976727</td>\n",
       "      <td>299.556496</td>\n",
       "      <td>0.000000</td>\n",
       "      <td>0.0</td>\n",
       "      <td>0.000000</td>\n",
       "      <td>...</td>\n",
       "      <td>0.0</td>\n",
       "      <td>0.0</td>\n",
       "      <td>0.0</td>\n",
       "      <td>0.0</td>\n",
       "      <td>0.0</td>\n",
       "      <td>7.036562</td>\n",
       "      <td>0.000000</td>\n",
       "      <td>0.0</td>\n",
       "      <td>0.0</td>\n",
       "      <td>0</td>\n",
       "    </tr>\n",
       "    <tr>\n",
       "      <th>3</th>\n",
       "      <td>166.010840</td>\n",
       "      <td>26.159284</td>\n",
       "      <td>61.373704</td>\n",
       "      <td>0.000000</td>\n",
       "      <td>30.183789</td>\n",
       "      <td>254.549955</td>\n",
       "      <td>446.720079</td>\n",
       "      <td>0.000000</td>\n",
       "      <td>0.0</td>\n",
       "      <td>25.153158</td>\n",
       "      <td>...</td>\n",
       "      <td>0.0</td>\n",
       "      <td>0.0</td>\n",
       "      <td>0.0</td>\n",
       "      <td>0.0</td>\n",
       "      <td>0.0</td>\n",
       "      <td>0.000000</td>\n",
       "      <td>1.006126</td>\n",
       "      <td>0.0</td>\n",
       "      <td>0.0</td>\n",
       "      <td>0</td>\n",
       "    </tr>\n",
       "    <tr>\n",
       "      <th>4</th>\n",
       "      <td>188.426220</td>\n",
       "      <td>71.160966</td>\n",
       "      <td>119.269788</td>\n",
       "      <td>57.129226</td>\n",
       "      <td>16.036274</td>\n",
       "      <td>265.600789</td>\n",
       "      <td>287.650666</td>\n",
       "      <td>24.054411</td>\n",
       "      <td>0.0</td>\n",
       "      <td>1.002267</td>\n",
       "      <td>...</td>\n",
       "      <td>0.0</td>\n",
       "      <td>0.0</td>\n",
       "      <td>0.0</td>\n",
       "      <td>0.0</td>\n",
       "      <td>0.0</td>\n",
       "      <td>0.000000</td>\n",
       "      <td>0.000000</td>\n",
       "      <td>0.0</td>\n",
       "      <td>0.0</td>\n",
       "      <td>0</td>\n",
       "    </tr>\n",
       "    <tr>\n",
       "      <th>...</th>\n",
       "      <td>...</td>\n",
       "      <td>...</td>\n",
       "      <td>...</td>\n",
       "      <td>...</td>\n",
       "      <td>...</td>\n",
       "      <td>...</td>\n",
       "      <td>...</td>\n",
       "      <td>...</td>\n",
       "      <td>...</td>\n",
       "      <td>...</td>\n",
       "      <td>...</td>\n",
       "      <td>...</td>\n",
       "      <td>...</td>\n",
       "      <td>...</td>\n",
       "      <td>...</td>\n",
       "      <td>...</td>\n",
       "      <td>...</td>\n",
       "      <td>...</td>\n",
       "      <td>...</td>\n",
       "      <td>...</td>\n",
       "      <td>...</td>\n",
       "    </tr>\n",
       "    <tr>\n",
       "      <th>866</th>\n",
       "      <td>665.606813</td>\n",
       "      <td>101.002551</td>\n",
       "      <td>4.040102</td>\n",
       "      <td>0.000000</td>\n",
       "      <td>95.952424</td>\n",
       "      <td>10.100255</td>\n",
       "      <td>79.792016</td>\n",
       "      <td>0.000000</td>\n",
       "      <td>0.0</td>\n",
       "      <td>192.914873</td>\n",
       "      <td>...</td>\n",
       "      <td>0.0</td>\n",
       "      <td>0.0</td>\n",
       "      <td>0.0</td>\n",
       "      <td>0.0</td>\n",
       "      <td>0.0</td>\n",
       "      <td>0.000000</td>\n",
       "      <td>1.010026</td>\n",
       "      <td>0.0</td>\n",
       "      <td>0.0</td>\n",
       "      <td>0</td>\n",
       "    </tr>\n",
       "    <tr>\n",
       "      <th>867</th>\n",
       "      <td>21.157688</td>\n",
       "      <td>45.337903</td>\n",
       "      <td>18.135161</td>\n",
       "      <td>1.007509</td>\n",
       "      <td>290.162582</td>\n",
       "      <td>14.105125</td>\n",
       "      <td>0.000000</td>\n",
       "      <td>3.022527</td>\n",
       "      <td>0.0</td>\n",
       "      <td>64.480574</td>\n",
       "      <td>...</td>\n",
       "      <td>0.0</td>\n",
       "      <td>0.0</td>\n",
       "      <td>0.0</td>\n",
       "      <td>0.0</td>\n",
       "      <td>0.0</td>\n",
       "      <td>0.000000</td>\n",
       "      <td>0.000000</td>\n",
       "      <td>0.0</td>\n",
       "      <td>0.0</td>\n",
       "      <td>0</td>\n",
       "    </tr>\n",
       "    <tr>\n",
       "      <th>868</th>\n",
       "      <td>4.111466</td>\n",
       "      <td>81.201453</td>\n",
       "      <td>1704.202638</td>\n",
       "      <td>2.055733</td>\n",
       "      <td>9.250798</td>\n",
       "      <td>75.034254</td>\n",
       "      <td>238.465025</td>\n",
       "      <td>1.027866</td>\n",
       "      <td>0.0</td>\n",
       "      <td>1.027866</td>\n",
       "      <td>...</td>\n",
       "      <td>0.0</td>\n",
       "      <td>0.0</td>\n",
       "      <td>0.0</td>\n",
       "      <td>0.0</td>\n",
       "      <td>0.0</td>\n",
       "      <td>1.027866</td>\n",
       "      <td>0.000000</td>\n",
       "      <td>0.0</td>\n",
       "      <td>0.0</td>\n",
       "      <td>0</td>\n",
       "    </tr>\n",
       "    <tr>\n",
       "      <th>869</th>\n",
       "      <td>37.480576</td>\n",
       "      <td>438.624037</td>\n",
       "      <td>0.000000</td>\n",
       "      <td>0.000000</td>\n",
       "      <td>69.896209</td>\n",
       "      <td>3.038966</td>\n",
       "      <td>66.857244</td>\n",
       "      <td>0.000000</td>\n",
       "      <td>0.0</td>\n",
       "      <td>130.675522</td>\n",
       "      <td>...</td>\n",
       "      <td>0.0</td>\n",
       "      <td>0.0</td>\n",
       "      <td>0.0</td>\n",
       "      <td>0.0</td>\n",
       "      <td>0.0</td>\n",
       "      <td>0.000000</td>\n",
       "      <td>252.234146</td>\n",
       "      <td>0.0</td>\n",
       "      <td>0.0</td>\n",
       "      <td>0</td>\n",
       "    </tr>\n",
       "    <tr>\n",
       "      <th>870</th>\n",
       "      <td>664.830372</td>\n",
       "      <td>18.214531</td>\n",
       "      <td>138.632817</td>\n",
       "      <td>0.000000</td>\n",
       "      <td>224.645879</td>\n",
       "      <td>0.000000</td>\n",
       "      <td>307.623186</td>\n",
       "      <td>0.000000</td>\n",
       "      <td>0.0</td>\n",
       "      <td>246.908083</td>\n",
       "      <td>...</td>\n",
       "      <td>0.0</td>\n",
       "      <td>0.0</td>\n",
       "      <td>0.0</td>\n",
       "      <td>0.0</td>\n",
       "      <td>0.0</td>\n",
       "      <td>0.000000</td>\n",
       "      <td>1.011918</td>\n",
       "      <td>0.0</td>\n",
       "      <td>0.0</td>\n",
       "      <td>0</td>\n",
       "    </tr>\n",
       "  </tbody>\n",
       "</table>\n",
       "<p>871 rows × 609 columns</p>\n",
       "</div>"
      ],
      "text/plain": [
       "         GABRG2       CELF4        SRRM4      SLC1A3      ATP1A3      RBFOX3  \\\n",
       "0     35.038262  161.176004    68.074337   58.063405   20.021864  269.294069   \n",
       "1     95.324867   75.256474    87.297510    0.000000   18.061554  342.166102   \n",
       "2    220.143867  187.976727    42.219372  106.553653    0.000000  187.976727   \n",
       "3    166.010840   26.159284    61.373704    0.000000   30.183789  254.549955   \n",
       "4    188.426220   71.160966   119.269788   57.129226   16.036274  265.600789   \n",
       "..          ...         ...          ...         ...         ...         ...   \n",
       "866  665.606813  101.002551     4.040102    0.000000   95.952424   10.100255   \n",
       "867   21.157688   45.337903    18.135161    1.007509  290.162582   14.105125   \n",
       "868    4.111466   81.201453  1704.202638    2.055733    9.250798   75.034254   \n",
       "869   37.480576  438.624037     0.000000    0.000000   69.896209    3.038966   \n",
       "870  664.830372   18.214531   138.632817    0.000000  224.645879    0.000000   \n",
       "\n",
       "         GABRA4      NHSL1  GRAMD3      SEZ6L2  ...  FERMT1  CSPG4  GJA1  \\\n",
       "0    188.205520   0.000000     0.0    0.000000  ...     0.0    0.0   0.0   \n",
       "1    683.328784   0.000000     0.0    1.003420  ...     0.0    0.0   0.0   \n",
       "2    299.556496   0.000000     0.0    0.000000  ...     0.0    0.0   0.0   \n",
       "3    446.720079   0.000000     0.0   25.153158  ...     0.0    0.0   0.0   \n",
       "4    287.650666  24.054411     0.0    1.002267  ...     0.0    0.0   0.0   \n",
       "..          ...        ...     ...         ...  ...     ...    ...   ...   \n",
       "866   79.792016   0.000000     0.0  192.914873  ...     0.0    0.0   0.0   \n",
       "867    0.000000   3.022527     0.0   64.480574  ...     0.0    0.0   0.0   \n",
       "868  238.465025   1.027866     0.0    1.027866  ...     0.0    0.0   0.0   \n",
       "869   66.857244   0.000000     0.0  130.675522  ...     0.0    0.0   0.0   \n",
       "870  307.623186   0.000000     0.0  246.908083  ...     0.0    0.0   0.0   \n",
       "\n",
       "     LAMA1  YAP1  LINC00639.2       SMOC1  LINC00498  GFRA1  Label  \n",
       "0      0.0   0.0     0.000000    1.001093        0.0    0.0      0  \n",
       "1      0.0   0.0     0.000000    1.003420        0.0    0.0      0  \n",
       "2      0.0   0.0     7.036562    0.000000        0.0    0.0      0  \n",
       "3      0.0   0.0     0.000000    1.006126        0.0    0.0      0  \n",
       "4      0.0   0.0     0.000000    0.000000        0.0    0.0      0  \n",
       "..     ...   ...          ...         ...        ...    ...    ...  \n",
       "866    0.0   0.0     0.000000    1.010026        0.0    0.0      0  \n",
       "867    0.0   0.0     0.000000    0.000000        0.0    0.0      0  \n",
       "868    0.0   0.0     1.027866    0.000000        0.0    0.0      0  \n",
       "869    0.0   0.0     0.000000  252.234146        0.0    0.0      0  \n",
       "870    0.0   0.0     0.000000    1.011918        0.0    0.0      0  \n",
       "\n",
       "[871 rows x 609 columns]"
      ]
     },
     "execution_count": 2,
     "metadata": {},
     "output_type": "execute_result"
    }
   ],
   "source": [
    "df = pd.read_csv(\"i1 positive.csv\")\n",
    "df"
   ]
  },
  {
   "cell_type": "markdown",
   "id": "071b67b5-7510-41aa-92c9-83bc79d07e9e",
   "metadata": {},
   "source": [
    "## Dataset Characteristics\n",
    "\n",
    "All the samples in the dataset are numeric"
   ]
  },
  {
   "cell_type": "markdown",
   "id": "cf1aae36-063e-45f5-ad8f-2c1bd5f5cf5b",
   "metadata": {},
   "source": [
    "### Number of samples "
   ]
  },
  {
   "cell_type": "code",
   "execution_count": 3,
   "id": "abfc7d15-d88d-4238-b931-c9579963336f",
   "metadata": {},
   "outputs": [
    {
     "name": "stdout",
     "output_type": "stream",
     "text": [
      "Number of samples: 871\n"
     ]
    }
   ],
   "source": [
    "print('Number of samples:', df.shape[0])"
   ]
  },
  {
   "cell_type": "markdown",
   "id": "c9d7a02e-3461-4485-a526-fc72df21f5e8",
   "metadata": {},
   "source": [
    "### Number of each label"
   ]
  },
  {
   "cell_type": "code",
   "execution_count": 4,
   "id": "085bd93f-0300-48f8-8b45-28a1ee137ea0",
   "metadata": {},
   "outputs": [
    {
     "name": "stdout",
     "output_type": "stream",
     "text": [
      "Number of 0 labels:  781\n",
      "Number of 1 labels:  90\n"
     ]
    }
   ],
   "source": [
    "print('Number of 0 labels: ', len(df[df.Label==0]))\n",
    "print('Number of 1 labels: ', len(df[df.Label==1]))"
   ]
  },
  {
   "cell_type": "markdown",
   "id": "8b49749a-9be2-421e-bb4e-a445fa2fa303",
   "metadata": {},
   "source": [
    "### Datatype"
   ]
  },
  {
   "cell_type": "markdown",
   "id": "50001ee7-457f-4c2d-8ac5-2af8f5861dee",
   "metadata": {},
   "source": [
    "### Range of Data"
   ]
  },
  {
   "cell_type": "code",
   "execution_count": 5,
   "id": "4c9417ce-b566-4e66-ac7f-f9fe5e09e08d",
   "metadata": {},
   "outputs": [
    {
     "name": "stdout",
     "output_type": "stream",
     "text": [
      "Biggest value in the dataset: 0.0\n",
      "Biggest value in the dataset: 11405.4695\n",
      "Mean of all the means: 56.448339872720446\n",
      "Standard Deviation of all the standard deviations: 118.98586594987398\n"
     ]
    }
   ],
   "source": [
    "print('Biggest value in the dataset:', df.min().min())\n",
    "print('Biggest value in the dataset:', df.max().max())\n",
    "print('Mean of all the means:', df.mean().mean())\n",
    "print('Standard Deviation of all the standard deviations:', df.std().std())"
   ]
  },
  {
   "cell_type": "markdown",
   "id": "3e3a6527-2464-4392-81a2-56ba13e930f9",
   "metadata": {},
   "source": [
    "### How many values are just zeros?"
   ]
  },
  {
   "cell_type": "code",
   "execution_count": 6,
   "id": "961fccc1-ff38-4e04-af56-03932ae8d5f7",
   "metadata": {},
   "outputs": [
    {
     "name": "stdout",
     "output_type": "stream",
     "text": [
      "Mean number of zeroes between features: 356.40872560275545\n",
      "Standard Deviation of the number of zeroes between features: 53.02767108583817\n"
     ]
    }
   ],
   "source": [
    "vals = []\n",
    "for index, row in df.iterrows():\n",
    "    vals.append(row[row == 0].value_counts()[0])\n",
    "num_zeroes = pd.Series(vals)\n",
    "print('Mean number of zeroes between features:', num_zeroes.mean())\n",
    "print('Standard Deviation of the number of zeroes between features:', num_zeroes.std())"
   ]
  },
  {
   "cell_type": "markdown",
   "id": "b911cd38-3f8d-4daf-8655-dc3d9b39dca4",
   "metadata": {},
   "source": [
    "### Shuffling and Splitting dataset to x for the features and y for the labels\n",
    "\n",
    "x and y will be used throughout the project\n",
    "- On train test split for phase 1\n",
    "- During Cross Validation to break up x and y into 3 chunks"
   ]
  },
  {
   "cell_type": "code",
   "execution_count": 7,
   "id": "a6ddb99b-e859-45a0-98e9-59795edca667",
   "metadata": {},
   "outputs": [],
   "source": [
    "from sklearn.utils import shuffle\n",
    "df = shuffle(df)\n",
    "\n",
    "x = df.drop('Label', axis=1)\n",
    "y = df['Label']"
   ]
  },
  {
   "cell_type": "markdown",
   "id": "10ae8c23-f513-45a5-bbcd-0439a844b188",
   "metadata": {},
   "source": [
    "# Phase 1, Trainning on 0.75% and testing on 0.25% \n",
    "\n",
    "In this phase, I am will intentionally not do CV but just split the data into a training set and a testing set.\n",
    "Once I have gotten the metrics for this phase, the next phase starts over but instead uses 3-Fold Cross Validation. This is done to compare the results."
   ]
  },
  {
   "cell_type": "markdown",
   "id": "f4d8e477-0981-4da1-bacb-f577fe1ac91c",
   "metadata": {},
   "source": [
    "## Hyperparameter Tuning\n",
    "\n",
    "The hyperparameters in the random forest model are either used to increase the predictive power of the model or to make the model faster. "
   ]
  },
  {
   "cell_type": "markdown",
   "id": "21119800-bba1-4ab7-b021-297ae15929af",
   "metadata": {
    "tags": []
   },
   "source": [
    "| Hyperparameter    | Description\n",
    "|-------------------|:----------\n",
    "| n_estimators      | number of trees in the forest \n",
    "| max_features      | Sets the number of features to select when bootstrapping\n",
    "| Bootstrap         | Bootstrap=True (default) samples are drawn with replacement \n",
    "| random_state      | generated random numbers for the random forest."
   ]
  },
  {
   "cell_type": "code",
   "execution_count": 8,
   "id": "43414ac0-f269-4c2e-a59b-97618a6c8963",
   "metadata": {},
   "outputs": [],
   "source": [
    "import math\n",
    "num_features = df.shape[1]\n",
    "target_max_features = int(math.sqrt(num_features))\n",
    "grid_ranges = {\n",
    "    'n_estimators': [500, 1000],\n",
    "    'max_features': np.arange(target_max_features - 5, target_max_features + 5, 1),\n",
    "    'bootstrap': [True],\n",
    "    'oob_score': [True]\n",
    "    #'random_state': [1] # maybe needed\n",
    "}\n",
    "gscv = GridSearchCV(\n",
    "    estimator=RandomForestClassifier(),\n",
    "    param_grid=grid_ranges,\n",
    "    cv=3,\n",
    "    n_jobs=-1,\n",
    "    verbose=1\n",
    ")"
   ]
  },
  {
   "cell_type": "code",
   "execution_count": 9,
   "id": "73797ced-eaa6-4f31-9958-8f1a4e20aa76",
   "metadata": {},
   "outputs": [
    {
     "name": "stdout",
     "output_type": "stream",
     "text": [
      "Fitting 3 folds for each of 20 candidates, totalling 60 fits\n"
     ]
    }
   ],
   "source": [
    "# refit using best parameters\n",
    "gscv_fit = gscv.fit(x, y)"
   ]
  },
  {
   "cell_type": "code",
   "execution_count": 10,
   "id": "4fd8e6d2-ce64-4d81-aec0-8d83bf2ce567",
   "metadata": {},
   "outputs": [
    {
     "name": "stdout",
     "output_type": "stream",
     "text": [
      "{'bootstrap': True, 'max_features': 28, 'n_estimators': 1000, 'oob_score': True}\n"
     ]
    }
   ],
   "source": [
    "best_parameters = gscv_fit.best_params_\n",
    "print(best_parameters)"
   ]
  },
  {
   "cell_type": "code",
   "execution_count": 11,
   "id": "0caccf29-703a-4d41-bf96-5e9bb64dfadf",
   "metadata": {},
   "outputs": [],
   "source": [
    "predictions = gscv_fit.predict(x)"
   ]
  },
  {
   "cell_type": "markdown",
   "id": "6444cfc0-8f6e-415f-886b-6d2fd0495a1d",
   "metadata": {},
   "source": [
    "## splitting data into features and labels\n",
    "### Dropping the labels for our feature matrix"
   ]
  },
  {
   "cell_type": "markdown",
   "id": "8f1d6243-e043-4a70-bac8-b32792a657fc",
   "metadata": {
    "tags": []
   },
   "source": [
    "# Split the data into trainning set and testing set"
   ]
  },
  {
   "cell_type": "code",
   "execution_count": 37,
   "id": "772b2bc8-6993-4be5-8f22-66309a8ef8d8",
   "metadata": {},
   "outputs": [],
   "source": [
    "x_train, x_test, y_train, y_test = train_test_split(\n",
    "    x,\n",
    "    y,\n",
    "    test_size=0.25,\n",
    "    #random_state=0\n",
    "    shuffle=True\n",
    ")"
   ]
  },
  {
   "cell_type": "code",
   "execution_count": 38,
   "id": "a3eba853-d575-4b7e-a7d9-2276e5932e50",
   "metadata": {},
   "outputs": [
    {
     "ename": "NameError",
     "evalue": "name 'model' is not defined",
     "output_type": "error",
     "traceback": [
      "\u001b[0;31m---------------------------------------------------------------------------\u001b[0m",
      "\u001b[0;31mNameError\u001b[0m                                 Traceback (most recent call last)",
      "Input \u001b[0;32mIn [38]\u001b[0m, in \u001b[0;36m<cell line: 2>\u001b[0;34m()\u001b[0m\n\u001b[1;32m      1\u001b[0m \u001b[38;5;124;03m''' Fitting the model with split data '''\u001b[39;00m\n\u001b[0;32m----> 2\u001b[0m \u001b[43mmodel\u001b[49m\u001b[38;5;241m.\u001b[39mfit(x_train, y_train)\n",
      "\u001b[0;31mNameError\u001b[0m: name 'model' is not defined"
     ]
    }
   ],
   "source": [
    "''' Fitting the model with split data '''\n",
    "model.fit(x_train, y_train)"
   ]
  },
  {
   "cell_type": "markdown",
   "id": "90db5611-1c9d-43f5-a2d3-46dfa1935c53",
   "metadata": {},
   "source": [
    "# Now running the model on the test split data"
   ]
  },
  {
   "cell_type": "markdown",
   "id": "63835078-71ed-41f7-9799-45ac5ce7f18e",
   "metadata": {},
   "source": [
    "### Running model on entire testing data"
   ]
  },
  {
   "cell_type": "code",
   "execution_count": null,
   "id": "6aacf6e7-9d87-400c-b115-76b9d38af67b",
   "metadata": {},
   "outputs": [],
   "source": [
    "predict = model.predict(x_test)"
   ]
  },
  {
   "cell_type": "markdown",
   "id": "aee8e023-da41-46c2-9c3b-17b212dc5337",
   "metadata": {},
   "source": [
    "## Metrics"
   ]
  },
  {
   "cell_type": "markdown",
   "id": "ee354e57-589c-4523-a977-b9398888b931",
   "metadata": {},
   "source": [
    "### Confusion Matrix"
   ]
  },
  {
   "cell_type": "code",
   "execution_count": 12,
   "id": "020757cf-016a-4571-a3f1-93faed045e6c",
   "metadata": {},
   "outputs": [
    {
     "data": {
      "text/plain": [
       "<sklearn.metrics._plot.confusion_matrix.ConfusionMatrixDisplay at 0x122dc3610>"
      ]
     },
     "execution_count": 12,
     "metadata": {},
     "output_type": "execute_result"
    },
    {
     "data": {
      "image/png": "[encoded data removed]",
      "text/plain": [
       "<Figure size 640x480 with 2 Axes>"
      ]
     },
     "metadata": {},
     "output_type": "display_data"
    }
   ],
   "source": [
    "''' it will predict perfectly since it was trained on it '''\n",
    "cm = confusion_matrix(y, predictions, labels=gscv_fit.classes_)\n",
    "disp = ConfusionMatrixDisplay(confusion_matrix=cm, display_labels=gscv_fit.classes_)\n",
    "disp.plot()"
   ]
  },
  {
   "cell_type": "markdown",
   "id": "6bc71f8c-ce50-4c69-b278-93c698ab244c",
   "metadata": {},
   "source": [
    "### Out of Bag Error - OOB"
   ]
  },
  {
   "cell_type": "code",
   "execution_count": 13,
   "id": "8ffed6c2-4107-478d-910f-9878aada9494",
   "metadata": {},
   "outputs": [
    {
     "name": "stdout",
     "output_type": "stream",
     "text": [
      "Out of Bag Score is: 0.9827784156142365\n",
      "Out of Bag Error is: 0.01722158438576349\n"
     ]
    }
   ],
   "source": [
    "no_cv_oob = gscv_fit.best_estimator_.oob_score_\n",
    "print('Out of Bag Score is:', no_cv_oob)\n",
    "print('Out of Bag Error is:', 1 - no_cv_oob)"
   ]
  },
  {
   "cell_type": "markdown",
   "id": "dce0af0a-c16d-4d4d-a173-bec9082c0e1b",
   "metadata": {},
   "source": [
    "# Cross Validation\n",
    "\n",
    "Now let us use Cross Validation to Split the dataset and train with 3-fold CV"
   ]
  },
  {
   "cell_type": "markdown",
   "id": "e03ea2c9-be44-4a10-b782-6000df22bfa1",
   "metadata": {},
   "source": [
    "### First split the data 3 ways"
   ]
  },
  {
   "cell_type": "code",
   "execution_count": 14,
   "id": "23f048c1-329b-4048-bef9-06afe1ff42af",
   "metadata": {},
   "outputs": [
    {
     "name": "stdout",
     "output_type": "stream",
     "text": [
      "Checking to make sure all thirds add up to the total\n",
      "sum of thirds 871\n",
      "total 871\n"
     ]
    }
   ],
   "source": [
    "''' First split the data 3 ways '''\n",
    "\n",
    "first_third = df.iloc[:df.shape[0]//3]\n",
    "second_third = df.iloc[df.shape[0]//3 : 2*df.shape[0]//3]\n",
    "third_third = df.iloc[df.shape[0]//3*2 : ]\n",
    "print('Checking to make sure all thirds add up to the total')\n",
    "print('sum of thirds', first_third.shape[0] + second_third.shape[0] + third_third.shape[0])\n",
    "print('total', df.shape[0])"
   ]
  },
  {
   "cell_type": "code",
   "execution_count": 15,
   "id": "feb4b87a-3c86-4522-b34d-0d2b34e63750",
   "metadata": {},
   "outputs": [],
   "source": [
    "grid_ranges = {\n",
    "    'n_estimators': [500, 1000],\n",
    "    'max_features': np.arange(target_max_features - 5, target_max_features + 5, 1),\n",
    "    'bootstrap': [True],\n",
    "    'oob_score': [True]\n",
    "    #'random_state': [1] # maybe needed\n",
    "}\n",
    "clf = GridSearchCV(\n",
    "    estimator=RandomForestClassifier(),\n",
    "    param_grid=grid_ranges,\n",
    "    cv=3,\n",
    "    n_jobs=-1,\n",
    "    verbose=1\n",
    ")"
   ]
  },
  {
   "cell_type": "markdown",
   "id": "4a8929d1-1797-49f9-9bba-3852cc094cef",
   "metadata": {},
   "source": [
    "## First CV"
   ]
  },
  {
   "cell_type": "markdown",
   "id": "7f415a89-b442-4b01-a710-7ecc2bcbb2a4",
   "metadata": {},
   "source": [
    "### Trainning on first Two-folds"
   ]
  },
  {
   "cell_type": "code",
   "execution_count": 16,
   "id": "a747dbc3-9192-4bfa-81de-fe578edd5074",
   "metadata": {},
   "outputs": [
    {
     "data": {
      "image/png": "[encoded data removed]",
      "text/plain": [
       "<IPython.core.display.Image object>"
      ]
     },
     "execution_count": 16,
     "metadata": {},
     "output_type": "execute_result"
    }
   ],
   "source": [
    "display.Image('./first_fold.png')"
   ]
  },
  {
   "cell_type": "code",
   "execution_count": 17,
   "id": "c636480e-f8f8-4cfd-960b-d6be3ffbedba",
   "metadata": {},
   "outputs": [
    {
     "name": "stdout",
     "output_type": "stream",
     "text": [
      "Fitting 3 folds for each of 20 candidates, totalling 60 fits\n"
     ]
    },
    {
     "data": {
      "text/html": [
       "<style>#sk-container-id-1 {color: black;background-color: white;}#sk-container-id-1 pre{padding: 0;}#sk-container-id-1 div.sk-toggleable {background-color: white;}#sk-container-id-1 label.sk-toggleable__label {cursor: pointer;display: block;width: 100%;margin-bottom: 0;padding: 0.3em;box-sizing: border-box;text-align: center;}#sk-container-id-1 label.sk-toggleable__label-arrow:before {content: \"▸\";float: left;margin-right: 0.25em;color: #696969;}#sk-container-id-1 label.sk-toggleable__label-arrow:hover:before {color: black;}#sk-container-id-1 div.sk-estimator:hover label.sk-toggleable__label-arrow:before {color: black;}#sk-container-id-1 div.sk-toggleable__content {max-height: 0;max-width: 0;overflow: hidden;text-align: left;background-color: #f0f8ff;}#sk-container-id-1 div.sk-toggleable__content pre {margin: 0.2em;color: black;border-radius: 0.25em;background-color: #f0f8ff;}#sk-container-id-1 input.sk-toggleable__control:checked~div.sk-toggleable__content {max-height: 200px;max-width: 100%;overflow: auto;}#sk-container-id-1 input.sk-toggleable__control:checked~label.sk-toggleable__label-arrow:before {content: \"▾\";}#sk-container-id-1 div.sk-estimator input.sk-toggleable__control:checked~label.sk-toggleable__label {background-color: #d4ebff;}#sk-container-id-1 div.sk-label input.sk-toggleable__control:checked~label.sk-toggleable__label {background-color: #d4ebff;}#sk-container-id-1 input.sk-hidden--visually {border: 0;clip: rect(1px 1px 1px 1px);clip: rect(1px, 1px, 1px, 1px);height: 1px;margin: -1px;overflow: hidden;padding: 0;position: absolute;width: 1px;}#sk-container-id-1 div.sk-estimator {font-family: monospace;background-color: #f0f8ff;border: 1px dotted black;border-radius: 0.25em;box-sizing: border-box;margin-bottom: 0.5em;}#sk-container-id-1 div.sk-estimator:hover {background-color: #d4ebff;}#sk-container-id-1 div.sk-parallel-item::after {content: \"\";width: 100%;border-bottom: 1px solid gray;flex-grow: 1;}#sk-container-id-1 div.sk-label:hover label.sk-toggleable__label {background-color: #d4ebff;}#sk-container-id-1 div.sk-serial::before {content: \"\";position: absolute;border-left: 1px solid gray;box-sizing: border-box;top: 0;bottom: 0;left: 50%;z-index: 0;}#sk-container-id-1 div.sk-serial {display: flex;flex-direction: column;align-items: center;background-color: white;padding-right: 0.2em;padding-left: 0.2em;position: relative;}#sk-container-id-1 div.sk-item {position: relative;z-index: 1;}#sk-container-id-1 div.sk-parallel {display: flex;align-items: stretch;justify-content: center;background-color: white;position: relative;}#sk-container-id-1 div.sk-item::before, #sk-container-id-1 div.sk-parallel-item::before {content: \"\";position: absolute;border-left: 1px solid gray;box-sizing: border-box;top: 0;bottom: 0;left: 50%;z-index: -1;}#sk-container-id-1 div.sk-parallel-item {display: flex;flex-direction: column;z-index: 1;position: relative;background-color: white;}#sk-container-id-1 div.sk-parallel-item:first-child::after {align-self: flex-end;width: 50%;}#sk-container-id-1 div.sk-parallel-item:last-child::after {align-self: flex-start;width: 50%;}#sk-container-id-1 div.sk-parallel-item:only-child::after {width: 0;}#sk-container-id-1 div.sk-dashed-wrapped {border: 1px dashed gray;margin: 0 0.4em 0.5em 0.4em;box-sizing: border-box;padding-bottom: 0.4em;background-color: white;}#sk-container-id-1 div.sk-label label {font-family: monospace;font-weight: bold;display: inline-block;line-height: 1.2em;}#sk-container-id-1 div.sk-label-container {text-align: center;}#sk-container-id-1 div.sk-container {/* jupyter's `normalize.less` sets `[hidden] { display: none; }` but bootstrap.min.css set `[hidden] { display: none !important; }` so we also need the `!important` here to be able to override the default hidden behavior on the sphinx rendered scikit-learn.org. See: https://github.com/scikit-learn/scikit-learn/issues/21755 */display: inline-block !important;position: relative;}#sk-container-id-1 div.sk-text-repr-fallback {display: none;}</style><div id=\"sk-container-id-1\" class=\"sk-top-container\"><div class=\"sk-text-repr-fallback\"><pre>GridSearchCV(cv=3, estimator=RandomForestClassifier(), n_jobs=-1,\n",
       "             param_grid={&#x27;bootstrap&#x27;: [True],\n",
       "                         &#x27;max_features&#x27;: array([19, 20, 21, 22, 23, 24, 25, 26, 27, 28]),\n",
       "                         &#x27;n_estimators&#x27;: [500, 1000], &#x27;oob_score&#x27;: [True]},\n",
       "             verbose=1)</pre><b>In a Jupyter environment, please rerun this cell to show the HTML representation or trust the notebook. <br />On GitHub, the HTML representation is unable to render, please try loading this page with nbviewer.org.</b></div><div class=\"sk-container\" hidden><div class=\"sk-item sk-dashed-wrapped\"><div class=\"sk-label-container\"><div class=\"sk-label sk-toggleable\"><input class=\"sk-toggleable__control sk-hidden--visually\" id=\"sk-estimator-id-1\" type=\"checkbox\" ><label for=\"sk-estimator-id-1\" class=\"sk-toggleable__label sk-toggleable__label-arrow\">GridSearchCV</label><div class=\"sk-toggleable__content\"><pre>GridSearchCV(cv=3, estimator=RandomForestClassifier(), n_jobs=-1,\n",
       "             param_grid={&#x27;bootstrap&#x27;: [True],\n",
       "                         &#x27;max_features&#x27;: array([19, 20, 21, 22, 23, 24, 25, 26, 27, 28]),\n",
       "                         &#x27;n_estimators&#x27;: [500, 1000], &#x27;oob_score&#x27;: [True]},\n",
       "             verbose=1)</pre></div></div></div><div class=\"sk-parallel\"><div class=\"sk-parallel-item\"><div class=\"sk-item\"><div class=\"sk-label-container\"><div class=\"sk-label sk-toggleable\"><input class=\"sk-toggleable__control sk-hidden--visually\" id=\"sk-estimator-id-2\" type=\"checkbox\" ><label for=\"sk-estimator-id-2\" class=\"sk-toggleable__label sk-toggleable__label-arrow\">estimator: RandomForestClassifier</label><div class=\"sk-toggleable__content\"><pre>RandomForestClassifier()</pre></div></div></div><div class=\"sk-serial\"><div class=\"sk-item\"><div class=\"sk-estimator sk-toggleable\"><input class=\"sk-toggleable__control sk-hidden--visually\" id=\"sk-estimator-id-3\" type=\"checkbox\" ><label for=\"sk-estimator-id-3\" class=\"sk-toggleable__label sk-toggleable__label-arrow\">RandomForestClassifier</label><div class=\"sk-toggleable__content\"><pre>RandomForestClassifier()</pre></div></div></div></div></div></div></div></div></div></div>"
      ],
      "text/plain": [
       "GridSearchCV(cv=3, estimator=RandomForestClassifier(), n_jobs=-1,\n",
       "             param_grid={'bootstrap': [True],\n",
       "                         'max_features': array([19, 20, 21, 22, 23, 24, 25, 26, 27, 28]),\n",
       "                         'n_estimators': [500, 1000], 'oob_score': [True]},\n",
       "             verbose=1)"
      ]
     },
     "execution_count": 17,
     "metadata": {},
     "output_type": "execute_result"
    }
   ],
   "source": [
    "''' Trainning on First Two Folds '''\n",
    "x_train = pd.concat([first_third, second_third]).drop('Label', axis=1)\n",
    "y_train = pd.concat([first_third, second_third])['Label']\n",
    "clf.fit(x_train , y_train)"
   ]
  },
  {
   "cell_type": "markdown",
   "id": "48615341-5c19-460d-89a1-4d8fad61fd6e",
   "metadata": {},
   "source": [
    "### Testing on 3rd Fold"
   ]
  },
  {
   "cell_type": "code",
   "execution_count": 18,
   "id": "28a87bd1-b47f-4412-a36e-2a65cec85641",
   "metadata": {},
   "outputs": [],
   "source": [
    "first_predictions = clf.predict(third_third.drop('Label', axis=1))"
   ]
  },
  {
   "cell_type": "markdown",
   "id": "382eb605-4fc1-46b4-8d40-cd9f35ba4a5d",
   "metadata": {},
   "source": [
    "#### Matrix on first CV"
   ]
  },
  {
   "cell_type": "code",
   "execution_count": 19,
   "id": "2a7fafbf-c442-4209-b786-766306518832",
   "metadata": {},
   "outputs": [
    {
     "data": {
      "text/plain": [
       "<sklearn.metrics._plot.confusion_matrix.ConfusionMatrixDisplay at 0x12305f850>"
      ]
     },
     "execution_count": 19,
     "metadata": {},
     "output_type": "execute_result"
    },
    {
     "data": {
      "image/png": "[encoded data removed]",
      "text/plain": [
       "<Figure size 640x480 with 2 Axes>"
      ]
     },
     "metadata": {},
     "output_type": "display_data"
    }
   ],
   "source": [
    "cm = confusion_matrix(third_third['Label'], first_predictions, labels=clf.classes_)\n",
    "disp = ConfusionMatrixDisplay(confusion_matrix=cm, display_labels=clf.classes_)\n",
    "disp.plot()"
   ]
  },
  {
   "cell_type": "markdown",
   "id": "3b4815b1-e429-4ec4-a29c-e213d105980e",
   "metadata": {},
   "source": [
    "#### Metrics"
   ]
  },
  {
   "cell_type": "code",
   "execution_count": 20,
   "id": "9e5ef853-8610-4811-8867-8e60bfacab34",
   "metadata": {},
   "outputs": [
    {
     "name": "stdout",
     "output_type": "stream",
     "text": [
      "Accuracy Score 0.9828178694158075\n"
     ]
    }
   ],
   "source": [
    "first_accuracy_score = accuracy_score(first_predictions, third_third['Label'])\n",
    "print('Accuracy Score', first_accuracy_score)"
   ]
  },
  {
   "cell_type": "markdown",
   "id": "6b07291f-c421-4a12-b948-1f3c7afb58cb",
   "metadata": {},
   "source": [
    "#### Out of Bag Error"
   ]
  },
  {
   "cell_type": "code",
   "execution_count": 21,
   "id": "ddbb0ba1-25dc-4667-9222-c30947130fd4",
   "metadata": {},
   "outputs": [
    {
     "data": {
      "text/plain": [
       "0.9775862068965517"
      ]
     },
     "execution_count": 21,
     "metadata": {},
     "output_type": "execute_result"
    }
   ],
   "source": [
    "first_oob = clf.best_estimator_.oob_score_\n",
    "first_oob"
   ]
  },
  {
   "cell_type": "markdown",
   "id": "7bbeae8b-0523-4a35-8d59-aeb82e4fcb27",
   "metadata": {},
   "source": [
    "## Second CV"
   ]
  },
  {
   "cell_type": "markdown",
   "id": "3c66ac90-ec33-4fbf-b786-25f3a968d322",
   "metadata": {},
   "source": [
    "### Trainning on first and third fold"
   ]
  },
  {
   "cell_type": "code",
   "execution_count": 22,
   "id": "e5179bde-67ba-4705-8810-d0e8ac19045f",
   "metadata": {},
   "outputs": [
    {
     "data": {
      "image/png": "[encoded data removed]",
      "text/plain": [
       "<IPython.core.display.Image object>"
      ]
     },
     "execution_count": 22,
     "metadata": {},
     "output_type": "execute_result"
    }
   ],
   "source": [
    "display.Image('./second_cv.png')"
   ]
  },
  {
   "cell_type": "code",
   "execution_count": 23,
   "id": "bec2eb3b-58b8-48f3-9e67-037390942b0f",
   "metadata": {},
   "outputs": [
    {
     "name": "stdout",
     "output_type": "stream",
     "text": [
      "Fitting 3 folds for each of 20 candidates, totalling 60 fits\n"
     ]
    },
    {
     "data": {
      "text/html": [
       "<style>#sk-container-id-2 {color: black;background-color: white;}#sk-container-id-2 pre{padding: 0;}#sk-container-id-2 div.sk-toggleable {background-color: white;}#sk-container-id-2 label.sk-toggleable__label {cursor: pointer;display: block;width: 100%;margin-bottom: 0;padding: 0.3em;box-sizing: border-box;text-align: center;}#sk-container-id-2 label.sk-toggleable__label-arrow:before {content: \"▸\";float: left;margin-right: 0.25em;color: #696969;}#sk-container-id-2 label.sk-toggleable__label-arrow:hover:before {color: black;}#sk-container-id-2 div.sk-estimator:hover label.sk-toggleable__label-arrow:before {color: black;}#sk-container-id-2 div.sk-toggleable__content {max-height: 0;max-width: 0;overflow: hidden;text-align: left;background-color: #f0f8ff;}#sk-container-id-2 div.sk-toggleable__content pre {margin: 0.2em;color: black;border-radius: 0.25em;background-color: #f0f8ff;}#sk-container-id-2 input.sk-toggleable__control:checked~div.sk-toggleable__content {max-height: 200px;max-width: 100%;overflow: auto;}#sk-container-id-2 input.sk-toggleable__control:checked~label.sk-toggleable__label-arrow:before {content: \"▾\";}#sk-container-id-2 div.sk-estimator input.sk-toggleable__control:checked~label.sk-toggleable__label {background-color: #d4ebff;}#sk-container-id-2 div.sk-label input.sk-toggleable__control:checked~label.sk-toggleable__label {background-color: #d4ebff;}#sk-container-id-2 input.sk-hidden--visually {border: 0;clip: rect(1px 1px 1px 1px);clip: rect(1px, 1px, 1px, 1px);height: 1px;margin: -1px;overflow: hidden;padding: 0;position: absolute;width: 1px;}#sk-container-id-2 div.sk-estimator {font-family: monospace;background-color: #f0f8ff;border: 1px dotted black;border-radius: 0.25em;box-sizing: border-box;margin-bottom: 0.5em;}#sk-container-id-2 div.sk-estimator:hover {background-color: #d4ebff;}#sk-container-id-2 div.sk-parallel-item::after {content: \"\";width: 100%;border-bottom: 1px solid gray;flex-grow: 1;}#sk-container-id-2 div.sk-label:hover label.sk-toggleable__label {background-color: #d4ebff;}#sk-container-id-2 div.sk-serial::before {content: \"\";position: absolute;border-left: 1px solid gray;box-sizing: border-box;top: 0;bottom: 0;left: 50%;z-index: 0;}#sk-container-id-2 div.sk-serial {display: flex;flex-direction: column;align-items: center;background-color: white;padding-right: 0.2em;padding-left: 0.2em;position: relative;}#sk-container-id-2 div.sk-item {position: relative;z-index: 1;}#sk-container-id-2 div.sk-parallel {display: flex;align-items: stretch;justify-content: center;background-color: white;position: relative;}#sk-container-id-2 div.sk-item::before, #sk-container-id-2 div.sk-parallel-item::before {content: \"\";position: absolute;border-left: 1px solid gray;box-sizing: border-box;top: 0;bottom: 0;left: 50%;z-index: -1;}#sk-container-id-2 div.sk-parallel-item {display: flex;flex-direction: column;z-index: 1;position: relative;background-color: white;}#sk-container-id-2 div.sk-parallel-item:first-child::after {align-self: flex-end;width: 50%;}#sk-container-id-2 div.sk-parallel-item:last-child::after {align-self: flex-start;width: 50%;}#sk-container-id-2 div.sk-parallel-item:only-child::after {width: 0;}#sk-container-id-2 div.sk-dashed-wrapped {border: 1px dashed gray;margin: 0 0.4em 0.5em 0.4em;box-sizing: border-box;padding-bottom: 0.4em;background-color: white;}#sk-container-id-2 div.sk-label label {font-family: monospace;font-weight: bold;display: inline-block;line-height: 1.2em;}#sk-container-id-2 div.sk-label-container {text-align: center;}#sk-container-id-2 div.sk-container {/* jupyter's `normalize.less` sets `[hidden] { display: none; }` but bootstrap.min.css set `[hidden] { display: none !important; }` so we also need the `!important` here to be able to override the default hidden behavior on the sphinx rendered scikit-learn.org. See: https://github.com/scikit-learn/scikit-learn/issues/21755 */display: inline-block !important;position: relative;}#sk-container-id-2 div.sk-text-repr-fallback {display: none;}</style><div id=\"sk-container-id-2\" class=\"sk-top-container\"><div class=\"sk-text-repr-fallback\"><pre>GridSearchCV(cv=3, estimator=RandomForestClassifier(), n_jobs=-1,\n",
       "             param_grid={&#x27;bootstrap&#x27;: [True],\n",
       "                         &#x27;max_features&#x27;: array([19, 20, 21, 22, 23, 24, 25, 26, 27, 28]),\n",
       "                         &#x27;n_estimators&#x27;: [500, 1000], &#x27;oob_score&#x27;: [True]},\n",
       "             verbose=1)</pre><b>In a Jupyter environment, please rerun this cell to show the HTML representation or trust the notebook. <br />On GitHub, the HTML representation is unable to render, please try loading this page with nbviewer.org.</b></div><div class=\"sk-container\" hidden><div class=\"sk-item sk-dashed-wrapped\"><div class=\"sk-label-container\"><div class=\"sk-label sk-toggleable\"><input class=\"sk-toggleable__control sk-hidden--visually\" id=\"sk-estimator-id-4\" type=\"checkbox\" ><label for=\"sk-estimator-id-4\" class=\"sk-toggleable__label sk-toggleable__label-arrow\">GridSearchCV</label><div class=\"sk-toggleable__content\"><pre>GridSearchCV(cv=3, estimator=RandomForestClassifier(), n_jobs=-1,\n",
       "             param_grid={&#x27;bootstrap&#x27;: [True],\n",
       "                         &#x27;max_features&#x27;: array([19, 20, 21, 22, 23, 24, 25, 26, 27, 28]),\n",
       "                         &#x27;n_estimators&#x27;: [500, 1000], &#x27;oob_score&#x27;: [True]},\n",
       "             verbose=1)</pre></div></div></div><div class=\"sk-parallel\"><div class=\"sk-parallel-item\"><div class=\"sk-item\"><div class=\"sk-label-container\"><div class=\"sk-label sk-toggleable\"><input class=\"sk-toggleable__control sk-hidden--visually\" id=\"sk-estimator-id-5\" type=\"checkbox\" ><label for=\"sk-estimator-id-5\" class=\"sk-toggleable__label sk-toggleable__label-arrow\">estimator: RandomForestClassifier</label><div class=\"sk-toggleable__content\"><pre>RandomForestClassifier()</pre></div></div></div><div class=\"sk-serial\"><div class=\"sk-item\"><div class=\"sk-estimator sk-toggleable\"><input class=\"sk-toggleable__control sk-hidden--visually\" id=\"sk-estimator-id-6\" type=\"checkbox\" ><label for=\"sk-estimator-id-6\" class=\"sk-toggleable__label sk-toggleable__label-arrow\">RandomForestClassifier</label><div class=\"sk-toggleable__content\"><pre>RandomForestClassifier()</pre></div></div></div></div></div></div></div></div></div></div>"
      ],
      "text/plain": [
       "GridSearchCV(cv=3, estimator=RandomForestClassifier(), n_jobs=-1,\n",
       "             param_grid={'bootstrap': [True],\n",
       "                         'max_features': array([19, 20, 21, 22, 23, 24, 25, 26, 27, 28]),\n",
       "                         'n_estimators': [500, 1000], 'oob_score': [True]},\n",
       "             verbose=1)"
      ]
     },
     "execution_count": 23,
     "metadata": {},
     "output_type": "execute_result"
    }
   ],
   "source": [
    "''' Trainning on First and Third Folds '''\n",
    "x_train = pd.concat([first_third, third_third]).drop('Label', axis=1)\n",
    "y_train = pd.concat([first_third, third_third])['Label']\n",
    "clf.fit(x_train, y_train) # refitting actually untrains previous fit"
   ]
  },
  {
   "cell_type": "markdown",
   "id": "0fab6254-311e-4e08-80d5-66af68890e42",
   "metadata": {},
   "source": [
    "### Testing on 2nd Fold"
   ]
  },
  {
   "cell_type": "code",
   "execution_count": 24,
   "id": "3eb57ef8-4afb-4bab-98f3-7005351f6a77",
   "metadata": {},
   "outputs": [],
   "source": [
    "second_predictions = clf.predict(second_third.drop('Label', axis=1))"
   ]
  },
  {
   "cell_type": "markdown",
   "id": "b07ae527-bbca-41bd-8f18-71ea42bcfa81",
   "metadata": {},
   "source": [
    "### Metrics"
   ]
  },
  {
   "cell_type": "markdown",
   "id": "b261e090-1cb6-4db6-9015-875a04cecb67",
   "metadata": {},
   "source": [
    "#### Confusion Matrix"
   ]
  },
  {
   "cell_type": "code",
   "execution_count": 25,
   "id": "7192972d-a4ee-4375-99f5-7ff9b88e80bf",
   "metadata": {},
   "outputs": [
    {
     "data": {
      "text/plain": [
       "<sklearn.metrics._plot.confusion_matrix.ConfusionMatrixDisplay at 0x12305f100>"
      ]
     },
     "execution_count": 25,
     "metadata": {},
     "output_type": "execute_result"
    },
    {
     "data": {
      "image/png": "[encoded data removed]",
      "text/plain": [
       "<Figure size 640x480 with 2 Axes>"
      ]
     },
     "metadata": {},
     "output_type": "display_data"
    }
   ],
   "source": [
    "cm = confusion_matrix(second_third['Label'], second_predictions, labels=clf.classes_)\n",
    "disp = ConfusionMatrixDisplay(confusion_matrix=cm, display_labels=clf.classes_)\n",
    "disp.plot()"
   ]
  },
  {
   "cell_type": "code",
   "execution_count": 26,
   "id": "2887e1cb-271b-4679-a64c-c7a3b4e2a965",
   "metadata": {},
   "outputs": [
    {
     "name": "stdout",
     "output_type": "stream",
     "text": [
      "accuracy_score 0.9827586206896551\n"
     ]
    }
   ],
   "source": [
    "second_accuracy_score = accuracy_score(second_predictions, second_third['Label'])\n",
    "print('accuracy_score', second_accuracy_score)"
   ]
  },
  {
   "cell_type": "markdown",
   "id": "3849c1fc-bd0e-4da2-ae8d-7b3b02154e4b",
   "metadata": {},
   "source": [
    "#### Out of Bag Error"
   ]
  },
  {
   "cell_type": "code",
   "execution_count": 27,
   "id": "4aa9a818-b2e4-44f6-acd9-9a0abb781cdd",
   "metadata": {},
   "outputs": [
    {
     "name": "stdout",
     "output_type": "stream",
     "text": [
      "The oob score is: 0.9793459552495697\n",
      "The OOB error is: 0.02065404475043031\n"
     ]
    }
   ],
   "source": [
    "second_oob = clf.best_estimator_.oob_score_\n",
    "second_oob_eeror = 1 - second_oob\n",
    "print('The oob score is:', second_oob)\n",
    "print('The OOB error is:', second_oob_eeror)"
   ]
  },
  {
   "cell_type": "markdown",
   "id": "ea0259bb-5b76-4271-8aad-fa6dd9a83f39",
   "metadata": {},
   "source": [
    "## Third CV"
   ]
  },
  {
   "cell_type": "markdown",
   "id": "7cc56bf6-ebd2-47e9-885f-ccae7e3b08c8",
   "metadata": {},
   "source": [
    "### Trainning on second and third fold"
   ]
  },
  {
   "cell_type": "code",
   "execution_count": 28,
   "id": "ab421996-0e04-4937-bd9d-a24b40313da8",
   "metadata": {},
   "outputs": [
    {
     "data": {
      "image/png": "[encoded data removed]",
      "text/plain": [
       "<IPython.core.display.Image object>"
      ]
     },
     "execution_count": 28,
     "metadata": {},
     "output_type": "execute_result"
    }
   ],
   "source": [
    "display.Image('./third_cv.png')"
   ]
  },
  {
   "cell_type": "code",
   "execution_count": 29,
   "id": "ceb9c849-f778-48a1-ad09-aac4f0f1518a",
   "metadata": {},
   "outputs": [
    {
     "name": "stdout",
     "output_type": "stream",
     "text": [
      "Fitting 3 folds for each of 20 candidates, totalling 60 fits\n"
     ]
    },
    {
     "data": {
      "text/html": [
       "<style>#sk-container-id-3 {color: black;background-color: white;}#sk-container-id-3 pre{padding: 0;}#sk-container-id-3 div.sk-toggleable {background-color: white;}#sk-container-id-3 label.sk-toggleable__label {cursor: pointer;display: block;width: 100%;margin-bottom: 0;padding: 0.3em;box-sizing: border-box;text-align: center;}#sk-container-id-3 label.sk-toggleable__label-arrow:before {content: \"▸\";float: left;margin-right: 0.25em;color: #696969;}#sk-container-id-3 label.sk-toggleable__label-arrow:hover:before {color: black;}#sk-container-id-3 div.sk-estimator:hover label.sk-toggleable__label-arrow:before {color: black;}#sk-container-id-3 div.sk-toggleable__content {max-height: 0;max-width: 0;overflow: hidden;text-align: left;background-color: #f0f8ff;}#sk-container-id-3 div.sk-toggleable__content pre {margin: 0.2em;color: black;border-radius: 0.25em;background-color: #f0f8ff;}#sk-container-id-3 input.sk-toggleable__control:checked~div.sk-toggleable__content {max-height: 200px;max-width: 100%;overflow: auto;}#sk-container-id-3 input.sk-toggleable__control:checked~label.sk-toggleable__label-arrow:before {content: \"▾\";}#sk-container-id-3 div.sk-estimator input.sk-toggleable__control:checked~label.sk-toggleable__label {background-color: #d4ebff;}#sk-container-id-3 div.sk-label input.sk-toggleable__control:checked~label.sk-toggleable__label {background-color: #d4ebff;}#sk-container-id-3 input.sk-hidden--visually {border: 0;clip: rect(1px 1px 1px 1px);clip: rect(1px, 1px, 1px, 1px);height: 1px;margin: -1px;overflow: hidden;padding: 0;position: absolute;width: 1px;}#sk-container-id-3 div.sk-estimator {font-family: monospace;background-color: #f0f8ff;border: 1px dotted black;border-radius: 0.25em;box-sizing: border-box;margin-bottom: 0.5em;}#sk-container-id-3 div.sk-estimator:hover {background-color: #d4ebff;}#sk-container-id-3 div.sk-parallel-item::after {content: \"\";width: 100%;border-bottom: 1px solid gray;flex-grow: 1;}#sk-container-id-3 div.sk-label:hover label.sk-toggleable__label {background-color: #d4ebff;}#sk-container-id-3 div.sk-serial::before {content: \"\";position: absolute;border-left: 1px solid gray;box-sizing: border-box;top: 0;bottom: 0;left: 50%;z-index: 0;}#sk-container-id-3 div.sk-serial {display: flex;flex-direction: column;align-items: center;background-color: white;padding-right: 0.2em;padding-left: 0.2em;position: relative;}#sk-container-id-3 div.sk-item {position: relative;z-index: 1;}#sk-container-id-3 div.sk-parallel {display: flex;align-items: stretch;justify-content: center;background-color: white;position: relative;}#sk-container-id-3 div.sk-item::before, #sk-container-id-3 div.sk-parallel-item::before {content: \"\";position: absolute;border-left: 1px solid gray;box-sizing: border-box;top: 0;bottom: 0;left: 50%;z-index: -1;}#sk-container-id-3 div.sk-parallel-item {display: flex;flex-direction: column;z-index: 1;position: relative;background-color: white;}#sk-container-id-3 div.sk-parallel-item:first-child::after {align-self: flex-end;width: 50%;}#sk-container-id-3 div.sk-parallel-item:last-child::after {align-self: flex-start;width: 50%;}#sk-container-id-3 div.sk-parallel-item:only-child::after {width: 0;}#sk-container-id-3 div.sk-dashed-wrapped {border: 1px dashed gray;margin: 0 0.4em 0.5em 0.4em;box-sizing: border-box;padding-bottom: 0.4em;background-color: white;}#sk-container-id-3 div.sk-label label {font-family: monospace;font-weight: bold;display: inline-block;line-height: 1.2em;}#sk-container-id-3 div.sk-label-container {text-align: center;}#sk-container-id-3 div.sk-container {/* jupyter's `normalize.less` sets `[hidden] { display: none; }` but bootstrap.min.css set `[hidden] { display: none !important; }` so we also need the `!important` here to be able to override the default hidden behavior on the sphinx rendered scikit-learn.org. See: https://github.com/scikit-learn/scikit-learn/issues/21755 */display: inline-block !important;position: relative;}#sk-container-id-3 div.sk-text-repr-fallback {display: none;}</style><div id=\"sk-container-id-3\" class=\"sk-top-container\"><div class=\"sk-text-repr-fallback\"><pre>GridSearchCV(cv=3, estimator=RandomForestClassifier(), n_jobs=-1,\n",
       "             param_grid={&#x27;bootstrap&#x27;: [True],\n",
       "                         &#x27;max_features&#x27;: array([19, 20, 21, 22, 23, 24, 25, 26, 27, 28]),\n",
       "                         &#x27;n_estimators&#x27;: [500, 1000], &#x27;oob_score&#x27;: [True]},\n",
       "             verbose=1)</pre><b>In a Jupyter environment, please rerun this cell to show the HTML representation or trust the notebook. <br />On GitHub, the HTML representation is unable to render, please try loading this page with nbviewer.org.</b></div><div class=\"sk-container\" hidden><div class=\"sk-item sk-dashed-wrapped\"><div class=\"sk-label-container\"><div class=\"sk-label sk-toggleable\"><input class=\"sk-toggleable__control sk-hidden--visually\" id=\"sk-estimator-id-7\" type=\"checkbox\" ><label for=\"sk-estimator-id-7\" class=\"sk-toggleable__label sk-toggleable__label-arrow\">GridSearchCV</label><div class=\"sk-toggleable__content\"><pre>GridSearchCV(cv=3, estimator=RandomForestClassifier(), n_jobs=-1,\n",
       "             param_grid={&#x27;bootstrap&#x27;: [True],\n",
       "                         &#x27;max_features&#x27;: array([19, 20, 21, 22, 23, 24, 25, 26, 27, 28]),\n",
       "                         &#x27;n_estimators&#x27;: [500, 1000], &#x27;oob_score&#x27;: [True]},\n",
       "             verbose=1)</pre></div></div></div><div class=\"sk-parallel\"><div class=\"sk-parallel-item\"><div class=\"sk-item\"><div class=\"sk-label-container\"><div class=\"sk-label sk-toggleable\"><input class=\"sk-toggleable__control sk-hidden--visually\" id=\"sk-estimator-id-8\" type=\"checkbox\" ><label for=\"sk-estimator-id-8\" class=\"sk-toggleable__label sk-toggleable__label-arrow\">estimator: RandomForestClassifier</label><div class=\"sk-toggleable__content\"><pre>RandomForestClassifier()</pre></div></div></div><div class=\"sk-serial\"><div class=\"sk-item\"><div class=\"sk-estimator sk-toggleable\"><input class=\"sk-toggleable__control sk-hidden--visually\" id=\"sk-estimator-id-9\" type=\"checkbox\" ><label for=\"sk-estimator-id-9\" class=\"sk-toggleable__label sk-toggleable__label-arrow\">RandomForestClassifier</label><div class=\"sk-toggleable__content\"><pre>RandomForestClassifier()</pre></div></div></div></div></div></div></div></div></div></div>"
      ],
      "text/plain": [
       "GridSearchCV(cv=3, estimator=RandomForestClassifier(), n_jobs=-1,\n",
       "             param_grid={'bootstrap': [True],\n",
       "                         'max_features': array([19, 20, 21, 22, 23, 24, 25, 26, 27, 28]),\n",
       "                         'n_estimators': [500, 1000], 'oob_score': [True]},\n",
       "             verbose=1)"
      ]
     },
     "execution_count": 29,
     "metadata": {},
     "output_type": "execute_result"
    }
   ],
   "source": [
    "''' Trainning on last Two Folds '''\n",
    "x_train = pd.concat([second_third, third_third]).drop('Label', axis=1)\n",
    "y_train = pd.concat([second_third, third_third])['Label']\n",
    "clf.fit(x_train , y_train)"
   ]
  },
  {
   "cell_type": "markdown",
   "id": "f7b90fd0-029d-481e-bd37-d1d442d769df",
   "metadata": {},
   "source": [
    "### Testing on 1st Fold"
   ]
  },
  {
   "cell_type": "code",
   "execution_count": 30,
   "id": "b2dbd692-82f2-4c7a-a15f-1ad5578e40a7",
   "metadata": {},
   "outputs": [],
   "source": [
    "third_predictions = clf.predict(first_third.drop('Label', axis=1))"
   ]
  },
  {
   "cell_type": "markdown",
   "id": "e698680c-c2c1-4f1a-997c-e6c307b5f781",
   "metadata": {},
   "source": [
    "#### Confusion Matrix"
   ]
  },
  {
   "cell_type": "code",
   "execution_count": 31,
   "id": "4255a283-1b94-4ccf-b70b-2bfb14a0c66b",
   "metadata": {},
   "outputs": [
    {
     "data": {
      "text/plain": [
       "<sklearn.metrics._plot.confusion_matrix.ConfusionMatrixDisplay at 0x1231bf220>"
      ]
     },
     "execution_count": 31,
     "metadata": {},
     "output_type": "execute_result"
    },
    {
     "data": {
      "image/png": "[encoded data removed]",
      "text/plain": [
       "<Figure size 640x480 with 2 Axes>"
      ]
     },
     "metadata": {},
     "output_type": "display_data"
    }
   ],
   "source": [
    "cm = confusion_matrix(first_third['Label'], third_predictions, labels=clf.classes_)\n",
    "disp = ConfusionMatrixDisplay(confusion_matrix=cm, display_labels=clf.classes_)\n",
    "disp.plot()"
   ]
  },
  {
   "cell_type": "markdown",
   "id": "2a4ce1b6-23b2-44ed-b9d0-15baa8c4051e",
   "metadata": {},
   "source": [
    "#### Metrics"
   ]
  },
  {
   "cell_type": "code",
   "execution_count": 32,
   "id": "6a363ecb-1681-4e25-861e-f9bdd089f115",
   "metadata": {},
   "outputs": [
    {
     "name": "stdout",
     "output_type": "stream",
     "text": [
      "Accuracy Score 0.9793103448275862\n"
     ]
    }
   ],
   "source": [
    "third_accuracy_score = accuracy_score(third_predictions, first_third['Label'])\n",
    "print('Accuracy Score', third_accuracy_score)"
   ]
  },
  {
   "cell_type": "code",
   "execution_count": 33,
   "id": "9632f1ee-cc08-4cfe-855b-638e3a1d83a0",
   "metadata": {},
   "outputs": [
    {
     "name": "stdout",
     "output_type": "stream",
     "text": [
      "The OOB score is: 0.9827882960413081\n",
      "The OOB Error is :, 0.01721170395869187\n"
     ]
    }
   ],
   "source": [
    "third_oob = clf.best_estimator_.oob_score_\n",
    "print('The OOB score is:', third_oob)\n",
    "print('The OOB Error is :,', 1 - third_oob)"
   ]
  },
  {
   "cell_type": "markdown",
   "id": "696c16a4-1bfe-40b4-bf2d-7ea5868ddb1f",
   "metadata": {},
   "source": [
    "## Metrics of all Three folds"
   ]
  },
  {
   "cell_type": "markdown",
   "id": "b0c9fd4b-d443-45d1-8ba7-56ec82a0d99b",
   "metadata": {},
   "source": [
    "### Average Accuracy Score"
   ]
  },
  {
   "cell_type": "code",
   "execution_count": 34,
   "id": "94b7b2bb-a546-4614-902d-4ab10db40d0f",
   "metadata": {},
   "outputs": [
    {
     "name": "stdout",
     "output_type": "stream",
     "text": [
      "Average Accuracy 0.9816289449776829\n"
     ]
    }
   ],
   "source": [
    "average_accuracy = (first_accuracy_score + second_accuracy_score + third_accuracy_score)/3\n",
    "print('Average Accuracy', average_accuracy)"
   ]
  },
  {
   "cell_type": "markdown",
   "id": "202b0752-1371-4398-b67d-f69355660169",
   "metadata": {},
   "source": [
    "### Average OOB Score vs No CV OOB Score"
   ]
  },
  {
   "cell_type": "code",
   "execution_count": 35,
   "id": "af0dca34-854d-4df3-9c29-c8b8bbdf43d0",
   "metadata": {},
   "outputs": [
    {
     "name": "stdout",
     "output_type": "stream",
     "text": [
      "Average oob of all 3 folds: 0.9799068193958099\n",
      "Average oob when trained on entire dataset: 0.9827784156142365\n",
      "Wow! They are exactly the same! This shows that RF has built in CV\n"
     ]
    }
   ],
   "source": [
    "average_oob = (first_oob + second_oob + third_oob)/3\n",
    "print('Average oob of all 3 folds:', average_oob)\n",
    "print('Average oob when trained on entire dataset:', no_cv_oob)\n",
    "print('Wow! They are exactly the same! This shows that RF has built in CV')"
   ]
  },
  {
   "cell_type": "markdown",
   "id": "0fdc9ce6-701e-4f28-9f65-225e0c94f4e4",
   "metadata": {},
   "source": [
    "### Taking a single positive and negative sample"
   ]
  },
  {
   "cell_type": "markdown",
   "id": "6591be62-8197-4dac-8178-e9f9f5a709dd",
   "metadata": {},
   "source": [
    "#### Negative Sample"
   ]
  },
  {
   "cell_type": "code",
   "execution_count": null,
   "id": "2da12f9d-e240-4002-b39e-6b143fe2e7f2",
   "metadata": {},
   "outputs": [],
   "source": [
    "index = 0 # index of sample to predict\n",
    "single_sample = [x_test.iloc[index].to_numpy()]\n"
   ]
  },
  {
   "cell_type": "code",
   "execution_count": null,
   "id": "f59ebe00-bc6d-4790-8d8c-f9612939a8c2",
   "metadata": {},
   "outputs": [],
   "source": [
    "%%time\n",
    "with warnings.catch_warnings(record=True):\n",
    "    single_predict = model.predict(single_sample)"
   ]
  },
  {
   "cell_type": "code",
   "execution_count": null,
   "id": "c0dac1e9-1c0c-4b25-bdee-d46d453933d9",
   "metadata": {},
   "outputs": [],
   "source": [
    "print('predicted:', single_predict[0], ' actual', y_test[index])"
   ]
  },
  {
   "cell_type": "markdown",
   "id": "68701045-f542-4029-8cb7-e9e3e0a28474",
   "metadata": {},
   "source": [
    "#### Positive Sample"
   ]
  },
  {
   "cell_type": "code",
   "execution_count": null,
   "id": "ebb1ffd3-2bfb-421c-9e0a-1684892686c1",
   "metadata": {},
   "outputs": [],
   "source": [
    "index = 1 # index of sample to predict\n",
    "single_sample = [x_test.iloc[index].to_numpy()]"
   ]
  },
  {
   "cell_type": "code",
   "execution_count": null,
   "id": "f96be63b-4a33-4d04-b614-71680a7bc982",
   "metadata": {},
   "outputs": [],
   "source": [
    "%%time\n",
    "with warnings.catch_warnings(record=True):\n",
    "    single_predict = model.predict(single_sample)"
   ]
  },
  {
   "cell_type": "code",
   "execution_count": null,
   "id": "9883b9d7-c7a9-4a1d-9d57-ecc3ecb3f791",
   "metadata": {},
   "outputs": [],
   "source": [
    "print('predicted:', single_predict[0], ' actual', y_test[index])"
   ]
  },
  {
   "cell_type": "code",
   "execution_count": null,
   "id": "7ec9c13a-bf63-4399-8f47-545d38b776c6",
   "metadata": {},
   "outputs": [],
   "source": [
    "#predict = model.predict(x_test.iloc[0])\n",
    "x_test.shape"
   ]
  },
  {
   "cell_type": "markdown",
   "id": "c492127d-5ff8-41d0-8a88-104088aaa995",
   "metadata": {},
   "source": [
    "# Cut Off\n",
    "- Change the cutoff from anyhwere to 0 and 1\n",
    "- The model should be already trained and is the variable 'model'\n",
    "- The default value is 0.5"
   ]
  },
  {
   "cell_type": "code",
   "execution_count": null,
   "id": "4f71d02d-922d-4c12-92b2-2ef34c406742",
   "metadata": {},
   "outputs": [],
   "source": [
    "cutoff = 0.5\n",
    "y_pred_threshold = (model.predict_proba(x_test)[:, 1] > cutoff).astype('float')\n",
    "\n",
    "# Confusion Matrix of the results with change in cutoff\n",
    "confusion_matrix(y_test, y_pred_threshold)"
   ]
  },
  {
   "cell_type": "code",
   "execution_count": null,
   "id": "3b26940b-730d-459b-b8a9-e09a3c9d54db",
   "metadata": {},
   "outputs": [],
   "source": [
    "model.predict_proba(x_test)[0:10] # proportion of votes for each sample"
   ]
  },
  {
   "cell_type": "markdown",
   "id": "e2bc9780-c9f0-42e3-a2e0-54281863f6f8",
   "metadata": {
    "tags": []
   },
   "source": [
    "# Metrics"
   ]
  },
  {
   "cell_type": "markdown",
   "id": "e1f30213-34d1-478b-9e94-082eac55ac78",
   "metadata": {
    "tags": []
   },
   "source": [
    "### Confusion Matrix"
   ]
  },
  {
   "cell_type": "code",
   "execution_count": null,
   "id": "66d5626e-d0d5-4b73-844d-b8a15261b9b9",
   "metadata": {},
   "outputs": [],
   "source": [
    "cm = confusion_matrix(y_test, predict, labels=model.classes_)\n",
    "disp = ConfusionMatrixDisplay(confusion_matrix=cm, display_labels=model.classes_)\n",
    "disp.plot()"
   ]
  },
  {
   "cell_type": "markdown",
   "id": "263fb140-0b90-4d9a-971e-03e4e0110f98",
   "metadata": {
    "tags": []
   },
   "source": [
    "### Accuracy"
   ]
  },
  {
   "cell_type": "code",
   "execution_count": null,
   "id": "50f7c6bf-ef65-4c1d-a2cd-7ed7da8a34bb",
   "metadata": {},
   "outputs": [],
   "source": [
    "ac = accuracy_score(predict, y_test)\n",
    "print('Accuracy is:', ac)"
   ]
  },
  {
   "cell_type": "markdown",
   "id": "6da0bd89-e34f-495b-9f16-6f0d46fdeefa",
   "metadata": {},
   "source": [
    "### Classification\n",
    "\n",
    "Report, precision, recall, f1-score, support, accuracy"
   ]
  },
  {
   "cell_type": "code",
   "execution_count": null,
   "id": "bd47d296-16b2-4394-ba20-3588b39c76ab",
   "metadata": {},
   "outputs": [],
   "source": [
    "from sklearn.metrics import classification_report\n",
    "labels = ['class 0', 'class 1']\n",
    "print(classification_report(y_test, predict, target_names=labels))"
   ]
  },
  {
   "cell_type": "markdown",
   "id": "ae83ae82-2b18-4364-9c58-b79f2bc59d4b",
   "metadata": {},
   "source": [
    "### The out of bag error, OOB"
   ]
  },
  {
   "cell_type": "code",
   "execution_count": null,
   "id": "41b9d207-2802-4f92-9e62-6f4c51af5299",
   "metadata": {},
   "outputs": [],
   "source": [
    "print('The out of bag error is', model.oob_score_)"
   ]
  },
  {
   "cell_type": "markdown",
   "id": "9c0799c1-cf6d-4a0f-bd83-26b6cc50cc93",
   "metadata": {},
   "source": [
    "### Feature Ranking"
   ]
  },
  {
   "cell_type": "code",
   "execution_count": null,
   "id": "a310d225-83c4-42ea-b51b-9b47c8f99f17",
   "metadata": {},
   "outputs": [],
   "source": [
    "''' First extracting feature rankings and standardizing '''\n",
    "# Standardize Importances\n",
    "#std = np.std([tree.feature_importances_ for tree in model.estimators_], axis=0)\n",
    "std = model.feature_importances_\n",
    "feature_names = list(x_train.columns)\n",
    "features_dict = {key: val for key, val in zip(feature_names, std)}\n",
    "feature_rankings = {k: v for k, v in sorted(features_dict.items(), key=lambda item: item[1], reverse=True)}\n",
    "feature_rankings_list = list(feature_rankings.items())"
   ]
  },
  {
   "cell_type": "markdown",
   "id": "0fdbf5bb-0831-4315-b559-4980ab76ad2f",
   "metadata": {},
   "source": [
    "#### Plotting the Feature Ranking"
   ]
  },
  {
   "cell_type": "code",
   "execution_count": null,
   "id": "31dead64-cda5-4a96-97e3-64878eb07e88",
   "metadata": {},
   "outputs": [],
   "source": [
    "import matplotlib.pyplot as plt\n",
    "\n",
    "# number of features to compare\n",
    "\n",
    "n = 10\n",
    "target_features = feature_rankings_list[:n]\n",
    "feature_names = [tup[0] for tup in target_features]\n",
    "feature_values = [tup[1] for tup in target_features]\n",
    "\n",
    "fig = plt.figure(figsize = (10, 5))\n",
    "\n",
    "plt.xticks(rotation=45, ha='right')\n",
    "\n",
    "# creating the bar plot\n",
    "plt.bar(feature_names, feature_values, color ='maroon',\n",
    "        width = 0.4)\n",
    "\n",
    "plt.xlabel('Feature')\n",
    "plt.ylabel('Rank Normalized [0, 1]')\n",
    "plt.title(f'Feature Ranking first {n}')\n",
    "\n",
    "plt.show()\n",
    "           "
   ]
  },
  {
   "cell_type": "code",
   "execution_count": null,
   "id": "24974cec-458c-4397-b133-6a1f8c546fde",
   "metadata": {},
   "outputs": [],
   "source": [
    "import matplotlib.pyplot as plt\n",
    "\n",
    "# number of features to compare\n",
    "\n",
    "n = 30\n",
    "target_features = feature_rankings_list[:n]\n",
    "feature_names = [tup[0] for tup in target_features]\n",
    "feature_values = [tup[1] for tup in target_features]\n",
    "\n",
    "fig = plt.figure(figsize = (10, 5))\n",
    "\n",
    "plt.xticks(rotation=45, ha='right')\n",
    "\n",
    "# creating the bar plot\n",
    "plt.bar(feature_names, feature_values, color ='maroon',\n",
    "        width = 0.4)\n",
    "\n",
    "plt.xlabel('Feature')\n",
    "plt.ylabel('Rank Normalized [0, 1]')\n",
    "plt.title(f'Feature Ranking first {n}')\n",
    "\n",
    "plt.show()\n",
    "           "
   ]
  },
  {
   "cell_type": "markdown",
   "id": "a2c3d009-7bb5-4386-bfb0-cf431faa38ef",
   "metadata": {},
   "source": [
    "# References\n",
    "\n",
    "https://towardsdatascience.com/gridsearchcv-for-beginners-db48a90114ee"
   ]
  }
 ],
 "metadata": {
  "kernelspec": {
   "display_name": "Python 3 (ipykernel)",
   "language": "python",
   "name": "python3"
  },
  "language_info": {
   "codemirror_mode": {
    "name": "ipython",
    "version": 3
   },
   "file_extension": ".py",
   "mimetype": "text/x-python",
   "name": "python",
   "nbconvert_exporter": "python",
   "pygments_lexer": "ipython3",
   "version": "3.10.8"
  },
  "toc-autonumbering": true
 },
 "nbformat": 4,
 "nbformat_minor": 5
}
