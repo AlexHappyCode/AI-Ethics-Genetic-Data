{
 "cells": [
  {
   "cell_type": "markdown",
   "id": "febbf3c7-78c0-46bf-a307-f73075dd9bdb",
   "metadata": {},
   "source": [
    "# Genetic Data Machine Learning Model\n",
    "\n",
    "### By Alexander Pena\n",
    "\n",
    "#### Assisted by:\n",
    "\n",
    "Ted"
   ]
  },
  {
   "cell_type": "markdown",
   "id": "65d77d59-cdfd-480f-ba1e-21a1a4306334",
   "metadata": {},
   "source": [
    "# Library imports"
   ]
  },
  {
   "cell_type": "code",
   "execution_count": 98,
   "id": "4c105cf3-18af-4f90-9a74-a7f8202aa7f1",
   "metadata": {
    "tags": []
   },
   "outputs": [],
   "source": [
    "import os\n",
    "from IPython import display\n",
    "import yfinance as yf\n",
    "import datetime as dt\n",
    "import pandas as pd\n",
    "import numpy as np\n",
    "from numpy import arange\n",
    "import matplotlib.pyplot as plt\n",
    "from pandas import read_csv\n",
    "from sklearn import metrics\n",
    "from sklearn.model_selection import train_test_split\n",
    "from sklearn.ensemble import RandomForestClassifier\n",
    "from sklearn.preprocessing import StandardScaler\n",
    "from sklearn.model_selection import GridSearchCV\n",
    "from sklearn.metrics import accuracy_score\n",
    "from sklearn.metrics import confusion_matrix, plot_confusion_matrix\n",
    "from sklearn.metrics import ConfusionMatrixDisplay\n",
    "from sklearn.metrics import f1_score \n",
    "from sklearn.metrics import precision_recall_fscore_support\n",
    "from sklearn.metrics import r2_score\n",
    "from sklearn.inspection import permutation_importance"
   ]
  },
  {
   "cell_type": "markdown",
   "id": "430c477a-6bb8-4298-8111-882dba151de1",
   "metadata": {},
   "source": [
    "# Data Import\n",
    "\n",
    "First will look at the e1_positive.csv dataset"
   ]
  },
  {
   "cell_type": "code",
   "execution_count": 2,
   "id": "4b91df7e-f6a2-4fd5-830d-2c8c61d385e8",
   "metadata": {},
   "outputs": [
    {
     "data": {
      "text/html": [
       "<div>\n",
       "<style scoped>\n",
       "    .dataframe tbody tr th:only-of-type {\n",
       "        vertical-align: middle;\n",
       "    }\n",
       "\n",
       "    .dataframe tbody tr th {\n",
       "        vertical-align: top;\n",
       "    }\n",
       "\n",
       "    .dataframe thead th {\n",
       "        text-align: right;\n",
       "    }\n",
       "</style>\n",
       "<table border=\"1\" class=\"dataframe\">\n",
       "  <thead>\n",
       "    <tr style=\"text-align: right;\">\n",
       "      <th></th>\n",
       "      <th>GABRG2</th>\n",
       "      <th>CELF4</th>\n",
       "      <th>SRRM4</th>\n",
       "      <th>SLC1A3</th>\n",
       "      <th>ATP1A3</th>\n",
       "      <th>RBFOX3</th>\n",
       "      <th>GABRA4</th>\n",
       "      <th>NHSL1</th>\n",
       "      <th>GRAMD3</th>\n",
       "      <th>SEZ6L2</th>\n",
       "      <th>...</th>\n",
       "      <th>FERMT1</th>\n",
       "      <th>CSPG4</th>\n",
       "      <th>GJA1</th>\n",
       "      <th>LAMA1</th>\n",
       "      <th>YAP1</th>\n",
       "      <th>LINC00639.2</th>\n",
       "      <th>SMOC1</th>\n",
       "      <th>LINC00498</th>\n",
       "      <th>GFRA1</th>\n",
       "      <th>Label</th>\n",
       "    </tr>\n",
       "  </thead>\n",
       "  <tbody>\n",
       "    <tr>\n",
       "      <th>0</th>\n",
       "      <td>35.038262</td>\n",
       "      <td>161.176004</td>\n",
       "      <td>68.074337</td>\n",
       "      <td>58.063405</td>\n",
       "      <td>20.021864</td>\n",
       "      <td>269.294069</td>\n",
       "      <td>188.205520</td>\n",
       "      <td>0.000000</td>\n",
       "      <td>0.0</td>\n",
       "      <td>0.000000</td>\n",
       "      <td>...</td>\n",
       "      <td>0.0</td>\n",
       "      <td>0.0</td>\n",
       "      <td>0.0</td>\n",
       "      <td>0.0</td>\n",
       "      <td>0.0</td>\n",
       "      <td>0.000000</td>\n",
       "      <td>1.001093</td>\n",
       "      <td>0.0</td>\n",
       "      <td>0.0</td>\n",
       "      <td>1</td>\n",
       "    </tr>\n",
       "    <tr>\n",
       "      <th>1</th>\n",
       "      <td>95.324867</td>\n",
       "      <td>75.256474</td>\n",
       "      <td>87.297510</td>\n",
       "      <td>0.000000</td>\n",
       "      <td>18.061554</td>\n",
       "      <td>342.166102</td>\n",
       "      <td>683.328784</td>\n",
       "      <td>0.000000</td>\n",
       "      <td>0.0</td>\n",
       "      <td>1.003420</td>\n",
       "      <td>...</td>\n",
       "      <td>0.0</td>\n",
       "      <td>0.0</td>\n",
       "      <td>0.0</td>\n",
       "      <td>0.0</td>\n",
       "      <td>0.0</td>\n",
       "      <td>0.000000</td>\n",
       "      <td>1.003420</td>\n",
       "      <td>0.0</td>\n",
       "      <td>0.0</td>\n",
       "      <td>1</td>\n",
       "    </tr>\n",
       "    <tr>\n",
       "      <th>2</th>\n",
       "      <td>220.143867</td>\n",
       "      <td>187.976727</td>\n",
       "      <td>42.219372</td>\n",
       "      <td>106.553653</td>\n",
       "      <td>0.000000</td>\n",
       "      <td>187.976727</td>\n",
       "      <td>299.556496</td>\n",
       "      <td>0.000000</td>\n",
       "      <td>0.0</td>\n",
       "      <td>0.000000</td>\n",
       "      <td>...</td>\n",
       "      <td>0.0</td>\n",
       "      <td>0.0</td>\n",
       "      <td>0.0</td>\n",
       "      <td>0.0</td>\n",
       "      <td>0.0</td>\n",
       "      <td>7.036562</td>\n",
       "      <td>0.000000</td>\n",
       "      <td>0.0</td>\n",
       "      <td>0.0</td>\n",
       "      <td>1</td>\n",
       "    </tr>\n",
       "    <tr>\n",
       "      <th>3</th>\n",
       "      <td>166.010840</td>\n",
       "      <td>26.159284</td>\n",
       "      <td>61.373704</td>\n",
       "      <td>0.000000</td>\n",
       "      <td>30.183789</td>\n",
       "      <td>254.549955</td>\n",
       "      <td>446.720079</td>\n",
       "      <td>0.000000</td>\n",
       "      <td>0.0</td>\n",
       "      <td>25.153158</td>\n",
       "      <td>...</td>\n",
       "      <td>0.0</td>\n",
       "      <td>0.0</td>\n",
       "      <td>0.0</td>\n",
       "      <td>0.0</td>\n",
       "      <td>0.0</td>\n",
       "      <td>0.000000</td>\n",
       "      <td>1.006126</td>\n",
       "      <td>0.0</td>\n",
       "      <td>0.0</td>\n",
       "      <td>1</td>\n",
       "    </tr>\n",
       "    <tr>\n",
       "      <th>4</th>\n",
       "      <td>188.426220</td>\n",
       "      <td>71.160966</td>\n",
       "      <td>119.269788</td>\n",
       "      <td>57.129226</td>\n",
       "      <td>16.036274</td>\n",
       "      <td>265.600789</td>\n",
       "      <td>287.650666</td>\n",
       "      <td>24.054411</td>\n",
       "      <td>0.0</td>\n",
       "      <td>1.002267</td>\n",
       "      <td>...</td>\n",
       "      <td>0.0</td>\n",
       "      <td>0.0</td>\n",
       "      <td>0.0</td>\n",
       "      <td>0.0</td>\n",
       "      <td>0.0</td>\n",
       "      <td>0.000000</td>\n",
       "      <td>0.000000</td>\n",
       "      <td>0.0</td>\n",
       "      <td>0.0</td>\n",
       "      <td>1</td>\n",
       "    </tr>\n",
       "    <tr>\n",
       "      <th>...</th>\n",
       "      <td>...</td>\n",
       "      <td>...</td>\n",
       "      <td>...</td>\n",
       "      <td>...</td>\n",
       "      <td>...</td>\n",
       "      <td>...</td>\n",
       "      <td>...</td>\n",
       "      <td>...</td>\n",
       "      <td>...</td>\n",
       "      <td>...</td>\n",
       "      <td>...</td>\n",
       "      <td>...</td>\n",
       "      <td>...</td>\n",
       "      <td>...</td>\n",
       "      <td>...</td>\n",
       "      <td>...</td>\n",
       "      <td>...</td>\n",
       "      <td>...</td>\n",
       "      <td>...</td>\n",
       "      <td>...</td>\n",
       "      <td>...</td>\n",
       "    </tr>\n",
       "    <tr>\n",
       "      <th>866</th>\n",
       "      <td>665.606813</td>\n",
       "      <td>101.002551</td>\n",
       "      <td>4.040102</td>\n",
       "      <td>0.000000</td>\n",
       "      <td>95.952424</td>\n",
       "      <td>10.100255</td>\n",
       "      <td>79.792016</td>\n",
       "      <td>0.000000</td>\n",
       "      <td>0.0</td>\n",
       "      <td>192.914873</td>\n",
       "      <td>...</td>\n",
       "      <td>0.0</td>\n",
       "      <td>0.0</td>\n",
       "      <td>0.0</td>\n",
       "      <td>0.0</td>\n",
       "      <td>0.0</td>\n",
       "      <td>0.000000</td>\n",
       "      <td>1.010026</td>\n",
       "      <td>0.0</td>\n",
       "      <td>0.0</td>\n",
       "      <td>0</td>\n",
       "    </tr>\n",
       "    <tr>\n",
       "      <th>867</th>\n",
       "      <td>21.157688</td>\n",
       "      <td>45.337903</td>\n",
       "      <td>18.135161</td>\n",
       "      <td>1.007509</td>\n",
       "      <td>290.162582</td>\n",
       "      <td>14.105125</td>\n",
       "      <td>0.000000</td>\n",
       "      <td>3.022527</td>\n",
       "      <td>0.0</td>\n",
       "      <td>64.480574</td>\n",
       "      <td>...</td>\n",
       "      <td>0.0</td>\n",
       "      <td>0.0</td>\n",
       "      <td>0.0</td>\n",
       "      <td>0.0</td>\n",
       "      <td>0.0</td>\n",
       "      <td>0.000000</td>\n",
       "      <td>0.000000</td>\n",
       "      <td>0.0</td>\n",
       "      <td>0.0</td>\n",
       "      <td>0</td>\n",
       "    </tr>\n",
       "    <tr>\n",
       "      <th>868</th>\n",
       "      <td>4.111466</td>\n",
       "      <td>81.201453</td>\n",
       "      <td>1704.202638</td>\n",
       "      <td>2.055733</td>\n",
       "      <td>9.250798</td>\n",
       "      <td>75.034254</td>\n",
       "      <td>238.465025</td>\n",
       "      <td>1.027866</td>\n",
       "      <td>0.0</td>\n",
       "      <td>1.027866</td>\n",
       "      <td>...</td>\n",
       "      <td>0.0</td>\n",
       "      <td>0.0</td>\n",
       "      <td>0.0</td>\n",
       "      <td>0.0</td>\n",
       "      <td>0.0</td>\n",
       "      <td>1.027866</td>\n",
       "      <td>0.000000</td>\n",
       "      <td>0.0</td>\n",
       "      <td>0.0</td>\n",
       "      <td>0</td>\n",
       "    </tr>\n",
       "    <tr>\n",
       "      <th>869</th>\n",
       "      <td>37.480576</td>\n",
       "      <td>438.624037</td>\n",
       "      <td>0.000000</td>\n",
       "      <td>0.000000</td>\n",
       "      <td>69.896209</td>\n",
       "      <td>3.038966</td>\n",
       "      <td>66.857244</td>\n",
       "      <td>0.000000</td>\n",
       "      <td>0.0</td>\n",
       "      <td>130.675522</td>\n",
       "      <td>...</td>\n",
       "      <td>0.0</td>\n",
       "      <td>0.0</td>\n",
       "      <td>0.0</td>\n",
       "      <td>0.0</td>\n",
       "      <td>0.0</td>\n",
       "      <td>0.000000</td>\n",
       "      <td>252.234146</td>\n",
       "      <td>0.0</td>\n",
       "      <td>0.0</td>\n",
       "      <td>0</td>\n",
       "    </tr>\n",
       "    <tr>\n",
       "      <th>870</th>\n",
       "      <td>664.830372</td>\n",
       "      <td>18.214531</td>\n",
       "      <td>138.632817</td>\n",
       "      <td>0.000000</td>\n",
       "      <td>224.645879</td>\n",
       "      <td>0.000000</td>\n",
       "      <td>307.623186</td>\n",
       "      <td>0.000000</td>\n",
       "      <td>0.0</td>\n",
       "      <td>246.908083</td>\n",
       "      <td>...</td>\n",
       "      <td>0.0</td>\n",
       "      <td>0.0</td>\n",
       "      <td>0.0</td>\n",
       "      <td>0.0</td>\n",
       "      <td>0.0</td>\n",
       "      <td>0.000000</td>\n",
       "      <td>1.011918</td>\n",
       "      <td>0.0</td>\n",
       "      <td>0.0</td>\n",
       "      <td>0</td>\n",
       "    </tr>\n",
       "  </tbody>\n",
       "</table>\n",
       "<p>871 rows × 609 columns</p>\n",
       "</div>"
      ],
      "text/plain": [
       "         GABRG2       CELF4        SRRM4      SLC1A3      ATP1A3      RBFOX3  \\\n",
       "0     35.038262  161.176004    68.074337   58.063405   20.021864  269.294069   \n",
       "1     95.324867   75.256474    87.297510    0.000000   18.061554  342.166102   \n",
       "2    220.143867  187.976727    42.219372  106.553653    0.000000  187.976727   \n",
       "3    166.010840   26.159284    61.373704    0.000000   30.183789  254.549955   \n",
       "4    188.426220   71.160966   119.269788   57.129226   16.036274  265.600789   \n",
       "..          ...         ...          ...         ...         ...         ...   \n",
       "866  665.606813  101.002551     4.040102    0.000000   95.952424   10.100255   \n",
       "867   21.157688   45.337903    18.135161    1.007509  290.162582   14.105125   \n",
       "868    4.111466   81.201453  1704.202638    2.055733    9.250798   75.034254   \n",
       "869   37.480576  438.624037     0.000000    0.000000   69.896209    3.038966   \n",
       "870  664.830372   18.214531   138.632817    0.000000  224.645879    0.000000   \n",
       "\n",
       "         GABRA4      NHSL1  GRAMD3      SEZ6L2  ...  FERMT1  CSPG4  GJA1  \\\n",
       "0    188.205520   0.000000     0.0    0.000000  ...     0.0    0.0   0.0   \n",
       "1    683.328784   0.000000     0.0    1.003420  ...     0.0    0.0   0.0   \n",
       "2    299.556496   0.000000     0.0    0.000000  ...     0.0    0.0   0.0   \n",
       "3    446.720079   0.000000     0.0   25.153158  ...     0.0    0.0   0.0   \n",
       "4    287.650666  24.054411     0.0    1.002267  ...     0.0    0.0   0.0   \n",
       "..          ...        ...     ...         ...  ...     ...    ...   ...   \n",
       "866   79.792016   0.000000     0.0  192.914873  ...     0.0    0.0   0.0   \n",
       "867    0.000000   3.022527     0.0   64.480574  ...     0.0    0.0   0.0   \n",
       "868  238.465025   1.027866     0.0    1.027866  ...     0.0    0.0   0.0   \n",
       "869   66.857244   0.000000     0.0  130.675522  ...     0.0    0.0   0.0   \n",
       "870  307.623186   0.000000     0.0  246.908083  ...     0.0    0.0   0.0   \n",
       "\n",
       "     LAMA1  YAP1  LINC00639.2       SMOC1  LINC00498  GFRA1  Label  \n",
       "0      0.0   0.0     0.000000    1.001093        0.0    0.0      1  \n",
       "1      0.0   0.0     0.000000    1.003420        0.0    0.0      1  \n",
       "2      0.0   0.0     7.036562    0.000000        0.0    0.0      1  \n",
       "3      0.0   0.0     0.000000    1.006126        0.0    0.0      1  \n",
       "4      0.0   0.0     0.000000    0.000000        0.0    0.0      1  \n",
       "..     ...   ...          ...         ...        ...    ...    ...  \n",
       "866    0.0   0.0     0.000000    1.010026        0.0    0.0      0  \n",
       "867    0.0   0.0     0.000000    0.000000        0.0    0.0      0  \n",
       "868    0.0   0.0     1.027866    0.000000        0.0    0.0      0  \n",
       "869    0.0   0.0     0.000000  252.234146        0.0    0.0      0  \n",
       "870    0.0   0.0     0.000000    1.011918        0.0    0.0      0  \n",
       "\n",
       "[871 rows x 609 columns]"
      ]
     },
     "execution_count": 2,
     "metadata": {},
     "output_type": "execute_result"
    }
   ],
   "source": [
    "df = pd.read_csv(\"e1_positive.csv\")\n",
    "df"
   ]
  },
  {
   "cell_type": "markdown",
   "id": "071b67b5-7510-41aa-92c9-83bc79d07e9e",
   "metadata": {},
   "source": [
    "# Dataset Characteristics"
   ]
  },
  {
   "cell_type": "markdown",
   "id": "c9d7a02e-3461-4485-a526-fc72df21f5e8",
   "metadata": {},
   "source": [
    "### Classification Split"
   ]
  },
  {
   "cell_type": "code",
   "execution_count": 4,
   "id": "085bd93f-0300-48f8-8b45-28a1ee137ea0",
   "metadata": {},
   "outputs": [
    {
     "name": "stdout",
     "output_type": "stream",
     "text": [
      "Number of 0 labels:  572\n",
      "Number of 1 labels:  299\n"
     ]
    }
   ],
   "source": [
    "print('Number of 0 labels: ', len(df[df.Label==0]))\n",
    "print('Number of 1 labels: ', len(df[df.Label==1]))"
   ]
  },
  {
   "cell_type": "markdown",
   "id": "8b49749a-9be2-421e-bb4e-a445fa2fa303",
   "metadata": {},
   "source": [
    "### Datatype"
   ]
  },
  {
   "cell_type": "code",
   "execution_count": 108,
   "id": "4e14ec4a-a565-4595-8372-2197e665d3d5",
   "metadata": {},
   "outputs": [
    {
     "data": {
      "text/plain": [
       "GABRG2          35.038262\n",
       "CELF4          161.176004\n",
       "SRRM4           68.074337\n",
       "SLC1A3          58.063405\n",
       "ATP1A3          20.021864\n",
       "                  ...    \n",
       "LINC00639.2      0.000000\n",
       "SMOC1            1.001093\n",
       "LINC00498        0.000000\n",
       "GFRA1            0.000000\n",
       "Label            1.000000\n",
       "Name: 0, Length: 609, dtype: float64"
      ]
     },
     "execution_count": 108,
     "metadata": {},
     "output_type": "execute_result"
    }
   ],
   "source": [
    "# I think all the data is numeric\n",
    "\n",
    "df.iloc[0]"
   ]
  },
  {
   "cell_type": "markdown",
   "id": "57aeb650-49f6-44d8-91a7-4caa77665643",
   "metadata": {},
   "source": [
    "# splitting data into features and labels\n",
    "### Dropping the labels for our feature matrix"
   ]
  },
  {
   "cell_type": "code",
   "execution_count": 40,
   "id": "38b7ab3a-6624-4351-86e5-fd0f441ecf8b",
   "metadata": {},
   "outputs": [],
   "source": [
    "y = df.iloc[:, df.shape[1] - 1].values\n",
    "x = df.drop(['Label'], axis=1)"
   ]
  },
  {
   "cell_type": "markdown",
   "id": "42ba1d57-39fe-4dbd-a9f1-ed300684a37e",
   "metadata": {
    "tags": []
   },
   "source": [
    "# Split the data into trainning set and testing set\n",
    "### Supervised Learning"
   ]
  },
  {
   "cell_type": "code",
   "execution_count": 6,
   "id": "c623b93b-0703-4fc0-ada7-b0ee62fd455d",
   "metadata": {},
   "outputs": [],
   "source": [
    "x_train, x_test, y_train, y_test = train_test_split(\n",
    "    x,\n",
    "    y,\n",
    "    test_size=0.25,\n",
    "    #random_state=0\n",
    "    shuffle=True\n",
    ")"
   ]
  },
  {
   "cell_type": "markdown",
   "id": "b2c8b87e-a939-4dbf-ba5d-e2d4971f6db4",
   "metadata": {},
   "source": [
    "# Creating the Random Forest Classifier"
   ]
  },
  {
   "cell_type": "code",
   "execution_count": 7,
   "id": "6c2de1a9-7d0f-4f1b-9dca-d796126121cf",
   "metadata": {},
   "outputs": [],
   "source": [
    "model = RandomForestClassifier (\n",
    "    n_estimators=500,\n",
    "    max_features=6,\n",
    "    bootstrap=True,\n",
    "    random_state=42,\n",
    "    oob_score=True\n",
    "    #max_samples=100,\n",
    "    #min_samples_split=2,\n",
    "    #min_samples_leaf=1,\n",
    "    #max_depth=10,\n",
    ")"
   ]
  },
  {
   "cell_type": "markdown",
   "id": "f4d8e477-0981-4da1-bacb-f577fe1ac91c",
   "metadata": {},
   "source": [
    "# Hyperparameter tuning\n",
    "\n",
    "The hyperparameters in the random forest model are either used to increase the predictive power of the model or to make the model faster. "
   ]
  },
  {
   "cell_type": "markdown",
   "id": "18762f7b-6978-432d-b623-00b9dff73c81",
   "metadata": {},
   "source": [
    "# Cross Validation"
   ]
  },
  {
   "cell_type": "markdown",
   "id": "21119800-bba1-4ab7-b021-297ae15929af",
   "metadata": {
    "tags": []
   },
   "source": [
    "| n_estimators      | number of trees in the forest \n",
    "|-------------------|:------------------------------\n",
    "| max_depth         | maximum depth in a tree\n",
    "| min_samples_split | minimum number of samples to allow a split in an internal node\n",
    "| min_samples_leaf  | specifies the minimum number of samples required to be at a leaf node\n",
    "| bootstrap         |Bootstrap=True (default): samples are drawn with replacement Bootstrap=False : samples are drawn without replacement\n",
    "| random_state  | generated random numbers for the random forest."
   ]
  },
  {
   "cell_type": "code",
   "execution_count": 8,
   "id": "43414ac0-f269-4c2e-a59b-97618a6c8963",
   "metadata": {},
   "outputs": [
    {
     "name": "stdout",
     "output_type": "stream",
     "text": [
      "Fitting 3 folds for each of 4 candidates, totalling 12 fits\n",
      "{'bootstrap': True, 'max_features': 4, 'n_estimators': 500}\n"
     ]
    }
   ],
   "source": [
    "grid_ranges = {\n",
    "    'n_estimators': [500, 1000],\n",
    "    'max_features': np.arange(3, 5, 1),\n",
    "#    'oob_score': [True]\n",
    "    'bootstrap': [True],\n",
    "    #'max_samples': [100] # will take n samples\n",
    "    #'max_depth': np.arange(1, 15, 1),\n",
    "    #'min_samples_split': [2, 10, 9],\n",
    "    #'min_samples_leaf': np.arange(1, 15, 2, dtype=int),\n",
    "    #'random_state': [1, 2, 30, 42],\n",
    "}\n",
    "gscv = GridSearchCV(\n",
    "    estimator=model,\n",
    "    param_grid=grid_ranges,\n",
    "    cv=3,\n",
    "    n_jobs=-1,\n",
    "    verbose=1,\n",
    ")\n",
    "gscv_fit = gscv.fit(x_train, y_train)\n",
    "best_parameters = gscv_fit.best_params_\n",
    "print(best_parameters)"
   ]
  },
  {
   "cell_type": "markdown",
   "id": "77032e33-c519-4983-a91b-ea2a17d36642",
   "metadata": {},
   "source": [
    "# Recreate the Random Forest Model with the best found hyperparameters"
   ]
  },
  {
   "cell_type": "code",
   "execution_count": 9,
   "id": "e9ca56d1-850a-49be-bb05-4e39b2b7d330",
   "metadata": {},
   "outputs": [
    {
     "data": {
      "text/html": [
       "<style>#sk-container-id-1 {color: black;background-color: white;}#sk-container-id-1 pre{padding: 0;}#sk-container-id-1 div.sk-toggleable {background-color: white;}#sk-container-id-1 label.sk-toggleable__label {cursor: pointer;display: block;width: 100%;margin-bottom: 0;padding: 0.3em;box-sizing: border-box;text-align: center;}#sk-container-id-1 label.sk-toggleable__label-arrow:before {content: \"▸\";float: left;margin-right: 0.25em;color: #696969;}#sk-container-id-1 label.sk-toggleable__label-arrow:hover:before {color: black;}#sk-container-id-1 div.sk-estimator:hover label.sk-toggleable__label-arrow:before {color: black;}#sk-container-id-1 div.sk-toggleable__content {max-height: 0;max-width: 0;overflow: hidden;text-align: left;background-color: #f0f8ff;}#sk-container-id-1 div.sk-toggleable__content pre {margin: 0.2em;color: black;border-radius: 0.25em;background-color: #f0f8ff;}#sk-container-id-1 input.sk-toggleable__control:checked~div.sk-toggleable__content {max-height: 200px;max-width: 100%;overflow: auto;}#sk-container-id-1 input.sk-toggleable__control:checked~label.sk-toggleable__label-arrow:before {content: \"▾\";}#sk-container-id-1 div.sk-estimator input.sk-toggleable__control:checked~label.sk-toggleable__label {background-color: #d4ebff;}#sk-container-id-1 div.sk-label input.sk-toggleable__control:checked~label.sk-toggleable__label {background-color: #d4ebff;}#sk-container-id-1 input.sk-hidden--visually {border: 0;clip: rect(1px 1px 1px 1px);clip: rect(1px, 1px, 1px, 1px);height: 1px;margin: -1px;overflow: hidden;padding: 0;position: absolute;width: 1px;}#sk-container-id-1 div.sk-estimator {font-family: monospace;background-color: #f0f8ff;border: 1px dotted black;border-radius: 0.25em;box-sizing: border-box;margin-bottom: 0.5em;}#sk-container-id-1 div.sk-estimator:hover {background-color: #d4ebff;}#sk-container-id-1 div.sk-parallel-item::after {content: \"\";width: 100%;border-bottom: 1px solid gray;flex-grow: 1;}#sk-container-id-1 div.sk-label:hover label.sk-toggleable__label {background-color: #d4ebff;}#sk-container-id-1 div.sk-serial::before {content: \"\";position: absolute;border-left: 1px solid gray;box-sizing: border-box;top: 0;bottom: 0;left: 50%;z-index: 0;}#sk-container-id-1 div.sk-serial {display: flex;flex-direction: column;align-items: center;background-color: white;padding-right: 0.2em;padding-left: 0.2em;position: relative;}#sk-container-id-1 div.sk-item {position: relative;z-index: 1;}#sk-container-id-1 div.sk-parallel {display: flex;align-items: stretch;justify-content: center;background-color: white;position: relative;}#sk-container-id-1 div.sk-item::before, #sk-container-id-1 div.sk-parallel-item::before {content: \"\";position: absolute;border-left: 1px solid gray;box-sizing: border-box;top: 0;bottom: 0;left: 50%;z-index: -1;}#sk-container-id-1 div.sk-parallel-item {display: flex;flex-direction: column;z-index: 1;position: relative;background-color: white;}#sk-container-id-1 div.sk-parallel-item:first-child::after {align-self: flex-end;width: 50%;}#sk-container-id-1 div.sk-parallel-item:last-child::after {align-self: flex-start;width: 50%;}#sk-container-id-1 div.sk-parallel-item:only-child::after {width: 0;}#sk-container-id-1 div.sk-dashed-wrapped {border: 1px dashed gray;margin: 0 0.4em 0.5em 0.4em;box-sizing: border-box;padding-bottom: 0.4em;background-color: white;}#sk-container-id-1 div.sk-label label {font-family: monospace;font-weight: bold;display: inline-block;line-height: 1.2em;}#sk-container-id-1 div.sk-label-container {text-align: center;}#sk-container-id-1 div.sk-container {/* jupyter's `normalize.less` sets `[hidden] { display: none; }` but bootstrap.min.css set `[hidden] { display: none !important; }` so we also need the `!important` here to be able to override the default hidden behavior on the sphinx rendered scikit-learn.org. See: https://github.com/scikit-learn/scikit-learn/issues/21755 */display: inline-block !important;position: relative;}#sk-container-id-1 div.sk-text-repr-fallback {display: none;}</style><div id=\"sk-container-id-1\" class=\"sk-top-container\"><div class=\"sk-text-repr-fallback\"><pre>RandomForestClassifier(n_estimators=500, oob_score=True)</pre><b>In a Jupyter environment, please rerun this cell to show the HTML representation or trust the notebook. <br />On GitHub, the HTML representation is unable to render, please try loading this page with nbviewer.org.</b></div><div class=\"sk-container\" hidden><div class=\"sk-item\"><div class=\"sk-estimator sk-toggleable\"><input class=\"sk-toggleable__control sk-hidden--visually\" id=\"sk-estimator-id-1\" type=\"checkbox\" checked><label for=\"sk-estimator-id-1\" class=\"sk-toggleable__label sk-toggleable__label-arrow\">RandomForestClassifier</label><div class=\"sk-toggleable__content\"><pre>RandomForestClassifier(n_estimators=500, oob_score=True)</pre></div></div></div></div></div>"
      ],
      "text/plain": [
       "RandomForestClassifier(n_estimators=500, oob_score=True)"
      ]
     },
     "execution_count": 9,
     "metadata": {},
     "output_type": "execute_result"
    }
   ],
   "source": [
    "model = RandomForestClassifier(\n",
    "    n_estimators=best_parameters['n_estimators'],\n",
    "    bootstrap=best_parameters['bootstrap'],\n",
    "    oob_score=True\n",
    "    #max_depth=best_parameters['max_depth'],\n",
    "    #max_samples=100\n",
    ")\n",
    "model.fit(x_train, y_train)"
   ]
  },
  {
   "cell_type": "markdown",
   "id": "b1b1291e-5d32-4433-a85c-961699307e13",
   "metadata": {},
   "source": [
    "# Now running the model on the test data"
   ]
  },
  {
   "cell_type": "code",
   "execution_count": 10,
   "id": "2da12f9d-e240-4002-b39e-6b143fe2e7f2",
   "metadata": {},
   "outputs": [],
   "source": [
    "predict = model.predict(x_test)"
   ]
  },
  {
   "cell_type": "markdown",
   "id": "e1f30213-34d1-478b-9e94-082eac55ac78",
   "metadata": {},
   "source": [
    "# Confusion Matrix"
   ]
  },
  {
   "cell_type": "code",
   "execution_count": 11,
   "id": "4d689d26-6ad7-4367-8e87-0298f0748229",
   "metadata": {},
   "outputs": [
    {
     "name": "stdout",
     "output_type": "stream",
     "text": [
      "true negatives, false negatives\n"
     ]
    },
    {
     "data": {
      "text/plain": [
       "array([[147,   0],\n",
       "       [  0,  71]])"
      ]
     },
     "execution_count": 11,
     "metadata": {},
     "output_type": "execute_result"
    }
   ],
   "source": [
    "M = confusion_matrix(y_test, predict)\n",
    "print('true negatives, false negatives')\n",
    "M"
   ]
  },
  {
   "cell_type": "markdown",
   "id": "6658f2b3-22a9-4850-8129-8f27674a3071",
   "metadata": {},
   "source": [
    "# Cut Off\n",
    "\n",
    "- Change the cutoff from anyhwere to 0 and 1\n",
    "- The model should be already trained and is the variable 'model'\n",
    "- The default value is 0.5"
   ]
  },
  {
   "cell_type": "code",
   "execution_count": 41,
   "id": "4f71d02d-922d-4c12-92b2-2ef34c406742",
   "metadata": {},
   "outputs": [
    {
     "data": {
      "text/plain": [
       "array([[147,   0],\n",
       "       [  0,  71]])"
      ]
     },
     "execution_count": 41,
     "metadata": {},
     "output_type": "execute_result"
    }
   ],
   "source": [
    "cutoff = 0.5\n",
    "y_pred_threshold = (model.predict_proba(x_test)[:, 1] > cutoff).astype('float')\n",
    "\n",
    "# Confusion Matrix of the results with change in cutoff\n",
    "confusion_matrix(y_test, y_pred_threshold)"
   ]
  },
  {
   "cell_type": "code",
   "execution_count": 36,
   "id": "3b26940b-730d-459b-b8a9-e09a3c9d54db",
   "metadata": {},
   "outputs": [
    {
     "data": {
      "text/plain": [
       "array([[0.978, 0.022],\n",
       "       [0.036, 0.964],\n",
       "       [0.988, 0.012],\n",
       "       [0.996, 0.004],\n",
       "       [0.998, 0.002],\n",
       "       [0.992, 0.008],\n",
       "       [0.88 , 0.12 ],\n",
       "       [0.106, 0.894],\n",
       "       [0.994, 0.006],\n",
       "       [0.98 , 0.02 ]])"
      ]
     },
     "execution_count": 36,
     "metadata": {},
     "output_type": "execute_result"
    }
   ],
   "source": [
    "model.predict_proba(x_test)[0:10]"
   ]
  },
  {
   "cell_type": "code",
   "execution_count": null,
   "id": "609f1880-7b8f-465a-9ada-894ac0ced533",
   "metadata": {},
   "outputs": [],
   "source": [
    "score(predictions, y_test)"
   ]
  },
  {
   "cell_type": "markdown",
   "id": "c0cf2be9-a917-49f0-87af-2c1504dfc84e",
   "metadata": {},
   "source": [
    "# Metrics"
   ]
  },
  {
   "cell_type": "markdown",
   "id": "9c0799c1-cf6d-4a0f-bd83-26b6cc50cc93",
   "metadata": {},
   "source": [
    "### Feature Ranking"
   ]
  },
  {
   "cell_type": "code",
   "execution_count": 111,
   "id": "a310d225-83c4-42ea-b51b-9b47c8f99f17",
   "metadata": {},
   "outputs": [
    {
     "name": "stdout",
     "output_type": "stream",
     "text": [
      "<class 'pandas.core.indexes.base.Index'>\n",
      "Index(['GABRG2', 'CELF4', 'SRRM4', 'SLC1A3', 'ATP1A3', 'RBFOX3', 'GABRA4',\n",
      "       'NHSL1', 'GRAMD3', 'SEZ6L2',\n",
      "       ...\n",
      "       'PRODH', 'FERMT1', 'CSPG4', 'GJA1', 'LAMA1', 'YAP1', 'LINC00639.2',\n",
      "       'SMOC1', 'LINC00498', 'GFRA1'],\n",
      "      dtype='object', length=608)\n",
      "<class 'dict'>\n",
      "{'TESPA1': 0.2074379378044401, 'SLC17A7': 0.20286726566317684, 'ANKRD33B': 0.16712969849739837, 'LINC00507': 0.16297677934351407, 'MIR44351HG': 0.1355402293731093, 'NPTX1': 0.12434968622404623, 'KCNIP1': 0.1211432690143149, 'ATP1B2': 0.12067130354525678, 'NRGN': 0.11989083140300544, 'SFTA1P': 0.1135971723746749, 'LINC00710': 0.10593052260716512, 'TBR1': 0.10494213919132639, 'CUX2': 0.10379858433372356, 'SLIT3.2': 0.1003105051244194, 'CUX2.1': 0.10014398302239036, 'LINC00508': 0.09863668512965161, 'SLIT3.1': 0.09143412425369721, 'LINC00152': 0.09020266082537272, 'SLIT3': 0.08554267096081355, 'DLX6AS1': 0.0838559527974078, 'ART3': 0.08147642900437574, 'LINC01500': 0.08092428307461474, 'NECAB1': 0.07841261838363325, 'NRN1': 0.07650414607867696, 'SMAD3': 0.07220967039835821, 'SLC30A3': 0.0642735587591883, 'LIN7A': 0.061932417124824085, 'TYRO3': 0.060231839753660935, 'IGF1': 0.05882237344222299, 'GAD2': 0.057386291926169695, 'ADARB2AS1.1': 0.05613880531044411, 'SLC17A6': 0.0554931215349655, 'XYLT1': 0.05137956081591009, 'ZNF536': 0.050529071735840723, 'BTBD11': 0.04858155667238345, 'ADARB2AS1': 0.04642502526629483, 'GAD2.1': 0.045787056089326525, 'LINC01105': 0.04467985992533186, 'ADCY8.1': 0.04200825471039164, 'ADCY8.2': 0.04101925571546524, 'KIAA1211': 0.03924847740735019, 'ELAVL2.1': 0.03702478866880416, 'NRIP3': 0.036778241345487614, 'ADCY8': 0.036327479479216225, 'ADCYAP1R1': 0.03582137280472169, 'FIGN': 0.03484902754210261, 'PREX2': 0.034446503992741635, 'CDK6': 0.03438874216456537, 'EGFR': 0.03409797081289494, 'MGLL': 0.03312208663497947, 'KIAA1456': 0.03200065074671028, 'DLX1': 0.031798942484678704, 'EPHA4': 0.030291855822829714, 'VWC2': 0.02938407976780075, 'ELAVL2': 0.02827975611046175, 'NRIP3.1': 0.027372287844084492, 'PROX1.1': 0.02603096902160202, 'FAM153C': 0.025883177900167205, 'BCL11A.2': 0.02560830668767211, 'COL21A1': 0.02503694051808929, 'GRIN3A': 0.02501198228126146, 'ADRA1A': 0.024512003804854274, 'BCL11A.1': 0.024041526166630505, 'ARHGEF28': 0.023275261234098225, 'DGCR5': 0.022968016115184776, 'PTCHD4': 0.022655771572127784, 'IGSF21': 0.021610042361100666, 'WLS': 0.021546853996610417, 'SERPINE2.1': 0.021340535913940646, 'PROX1.2': 0.019852000205504452, 'COL19A1': 0.019514182666481833, 'ARHGAP42.1': 0.018800801973935882, 'LAMP5': 0.01840687503004134, 'SHISA9': 0.017626948861621364, 'CHD7.3': 0.017244810871779755, 'TOX2.1': 0.017087505560120925, 'ATP2B4': 0.016977994778616053, 'BCL11B.2': 0.016853205416769386, 'PLXNA4.2': 0.016671800210453353, 'SERPINE2': 0.01663873770244801, 'RIN2': 0.016631713157319577, 'BCL11B.1': 0.015314381433147154, 'ANK1': 0.014944253507350118, 'PCDH9.AS3': 0.01492218587414867, 'ZBTB18': 0.014386116801941013, 'GABRA4': 0.014302711935270617, 'MAF': 0.014232812753108216, 'KIAA1958': 0.014175617504847308, 'ARHGAP42.2': 0.013996944760174457, 'B2M': 0.013887910835986563, 'TMEM132C': 0.013795195265331317, 'BCL11A': 0.013726059178295946, 'LINC00472': 0.013391096453821767, 'GAP43': 0.01324538835692739, 'STXBP6': 0.013199251870516304, 'TOX2': 0.013077880839740328, 'PTCHD4.1': 0.012859039503734186, 'BCL11B': 0.012851204959232834, 'PLXNA4': 0.012685678742568193, 'TMEM178A': 0.011939315974360909, 'NXPH2.1': 0.011591421528421814, 'HEPACAM': 0.011284810316310973, 'CSGALNACT1': 0.01125109808809465, 'BRINP1': 0.011138797780159082, 'GRIP2': 0.011094605493727084, 'PNOC.1': 0.010800461288665105, 'TOX3': 0.010769935284799064, 'RBFOX3': 0.010527649010321974, 'PNOC.2': 0.010509908186250307, 'CRH': 0.010431652036853768, 'GABRG2': 0.010098738721103298, 'TMEM132C.1': 0.010048648379575243, 'FAT1': 0.00962452552557095, 'ARHGAP31': 0.009592515640347668, 'DAAM2': 0.009508961357387076, 'CSGALNACT1.1': 0.009079617839335738, 'SCN3B': 0.008817983632792976, 'NHSL1.1': 0.008257781112202723, 'KAL1.1': 0.008234159402012256, 'CALB2': 0.008056024444252772, 'CELF4': 0.007601059877023646, 'PKP2.2': 0.00754046017227152, 'FAM84A': 0.007516510170726287, 'SCN7A': 0.007452430779874454, 'PWRN1': 0.007119493908471913, 'LINC00499': 0.006907922344797292, 'PROX1': 0.00685064817564544, 'GRIP2.1': 0.006756612234766316, 'CHD7.2': 0.006594485203143408, 'TMEM144': 0.006311374682334833, 'OSBPL3': 0.006213385446824345, 'MAML2': 0.006208236151432553, 'SYNPRAS1': 0.0062041311812224605, 'ZNF385D.AS2.1': 0.0059755880642190255, 'CALB2.2': 0.005877000904684135, 'HTR2C': 0.005807634548752491, 'ARHGAP42': 0.005760259440841325, 'MAPK4': 0.005581258984633087, 'WIF1.3': 0.005395806744603336, 'ITGB5': 0.0053487788581659, 'ATP11C': 0.004984711276719783, 'SRRM4': 0.004979644063272275, 'VWDE': 0.004829723108182198, 'SYNPRAS1.1': 0.0046869433101488335, 'CHD7.1': 0.0046668373797845945, 'ZNF385DAS2': 0.0046622304829125735, 'DCHS2': 0.0045754806237271965, 'CX3CR1': 0.004511842803829616, 'APBB1IP.1': 0.004434843800947059, 'SYNPR.AS1.2': 0.004407993089921237, 'CHD7': 0.004366825580640452, 'NXPH2': 0.0042624547803936175, 'TGFBR2.1': 0.004177340710622857, 'STXBP6.1': 0.004150333977179156, 'MS4A6E': 0.004052095195543813, 'SAMSN1': 0.003908425062766619, 'TOX3.1': 0.0038326620084251726, 'HIF3A': 0.0037901216773345236, 'PLXNA4.1': 0.0037418187056769653, 'SEMA5A': 0.003692085493973775, 'ADAM28.1': 0.0035946828145958106, 'ZBTB20AS1': 0.0035815789141702106, 'CSF2RA': 0.0034961434122913397, 'ITGAX': 0.00349219548326193, 'APBB1IP': 0.003456685479768033, 'KIT': 0.003421336112079702, 'RSPO2': 0.0034185930002055857, 'ANGPT1': 0.00341850923583087, 'PAPSS2': 0.0033374212752350146, 'ST3GAL1': 0.0033164842883021523, 'CMTM8': 0.0032984795219130544, 'ATP1A3': 0.0032077867540580805, 'ARL4C': 0.0031987053067614956, 'ADAM28': 0.003192664485294254, 'SLC1A3': 0.003171760242510195, 'KIT.1': 0.003168962882818667, 'CECR2': 0.0031481338285148774, 'VIP.2': 0.0031339458859048703, 'NPNT': 0.0031019346801187185, 'SCN7A.1': 0.003038246301911809, 'PLCG2': 0.00300725682281595, 'SEMA3C.2': 0.002970005362298574, 'FAM46A': 0.002912291945332842, 'C8ORF4.1': 0.002865754264067449, 'GRIK3': 0.002840805068786513, 'FAM46A.2': 0.0028150090286991817, 'PTGDS.1': 0.0028036982001015446, 'KAL1': 0.002769254007999048, 'LGI2.1': 0.0026970856436573927, 'SST': 0.0026826653795494104, 'MS4A7': 0.0026770111688418892, 'CSGALNACT1.3': 0.002675988947563201, 'TANC1': 0.0026047135299516484, 'FGD2': 0.002602467609043699, 'DOCK8': 0.002584061760574353, 'IKZF1': 0.002573467894955451, 'DOCK1': 0.0025304313398076153, 'PLCG2.1': 0.002529783192873238, 'SYK': 0.0025195297687533196, 'LINC01197': 0.0024745159779224943, 'MS4A14': 0.0024691656368723285, 'NHSL1': 0.002456539167005216, 'TGFBR2': 0.0024533652904658665, 'PRKCQ': 0.0024492910143155775, 'STARD13': 0.0024257469262546857, 'VWDE.1': 0.002370315957016557, 'PTPRC.1': 0.0023328448744217183, 'PRSS12': 0.002327772096642852, 'NFIX': 0.0022845686459609937, 'GREM2.1': 0.0022387210066788688, 'FAM46A.3': 0.0022263577773887215, 'UTRN.2': 0.0021260134714281478, 'FRMPD1': 0.002119594781567194, 'ST8SIA5': 0.0021084645817884334, 'SEMA3C': 0.0020973952873175566, 'LHFP.1': 0.002057820693517781, 'CSF2RA.1': 0.0020533775127627874, 'FAM189A2': 0.0020433935010735617, 'SLITRK2.1': 0.0020166816487673317, 'PROX1AS1': 0.0020108740408529835, 'PKP2.1': 0.0020100223017868353, 'SLC7A11': 0.002006649367124348, 'FAM196A.1': 0.0020017646377196562, 'LHX6': 0.002001361249538458, 'PTN': 0.0019974018951566027, 'LRP4': 0.001955329222858132, 'SLITRK2': 0.0019542310655135424, 'CSGALNACT1.2': 0.0019526190061423835, 'POU6F2': 0.0019316409457042912, 'SOX5': 0.0019259762428161125, 'TYROBP': 0.0018662828247706547, 'TLE2': 0.0018576487356668236, 'NOTCH2': 0.0018518632823724527, 'SPP1': 0.0018509296983410064, 'PTN.1': 0.0018352439220005855, 'EDNRA.1': 0.0018272080274537264, 'PTPRZ1.1': 0.0017664880166109065, 'LINC00996': 0.00176060238577853, 'TMCC3': 0.0017561799701243282, 'VIP.1': 0.001746900738306055, 'PLCE1': 0.0017417706542821436, 'PTGDS': 0.0017366185566382608, 'SEMA3A': 0.0016987952674726704, 'LINC01411': 0.0016340459414496441, 'INHBAAS1': 0.0015795112340464186, 'ABCA8': 0.0015724746468338236, 'PTPRC': 0.001566505390913455, 'COL5A2.2': 0.001549831730585582, 'VIP': 0.0015452377496518149, 'PRICKLE2': 0.0015131360138781846, 'BAGE2.1': 0.0015032384252521322, 'TOX.1': 0.001503048097742762, 'MPPED1.1': 0.0015008994664932563, 'PNOC': 0.0015002383490684422, 'TBL1X': 0.0014941218070137863, 'CNTN6': 0.001489402285814573, 'FAM46A.1': 0.0014741659902235504, 'FAM19A4': 0.0014708845402012444, 'FLI1': 0.001463536484432112, 'SCN3A': 0.0014625356331934214, 'NDNF.1': 0.0014622493090829679, 'KMO': 0.0014446519308585289, 'PTGDS.2': 0.0014423787291165623, 'ASIC4': 0.0014298648586152445, 'HCRTR2': 0.0014288653237124794, 'SV2A': 0.001427979131700239, 'TBL1X.2': 0.001420991655115137, 'CBLN4': 0.0014128438360871808, 'HLA.B.1': 0.0014107493552099706, 'C1ORF21': 0.001404837373521907, 'SEZ6L2': 0.0014003008557219988, 'ADGRG1': 0.001372913279805578, 'FAM155A.IT1': 0.001346243823124477, 'GSN': 0.0013307583207241623, 'ARHGEF26.AS1': 0.001291317108410465, 'HLA.C': 0.0012797543671283212, 'UTRN': 0.001257106940803928, 'LYPD6B': 0.0012455557524622303, 'NRP2': 0.0012434453425253992, 'EPHB6': 0.001234173185325247, 'BEX1': 0.0012321848643191088, 'TTTY14': 0.0012250535513391389, 'SRGAP1': 0.001224159456908586, 'NDNF': 0.0012192885983337383, 'LINC01102': 0.001216514430145817, 'ATP1A2': 0.001213362913862718, 'UTRN.1': 0.0012099502918788457, 'NDNF.2': 0.0012078164644492649, 'MYO16': 0.0012032966472681156, 'TOX3.2': 0.001197485418873983, 'YAP1': 0.0011934822295244618, 'GLIS3': 0.0011929346062017922, 'ADGRG1.1': 0.0011913256096973842, 'ANGPT1.1': 0.0011813523408812463, 'MEGF10': 0.0011788490651126634, 'FOXO1': 0.0011744073399492432, 'TOX.2': 0.0011688398893917361, 'BAGE2.2': 0.001159648175564127, 'PBX3': 0.0011576423433210508, 'ARHGAP36.1': 0.001139170476922908, 'ARHGAP28': 0.0011356279672488545, 'PCDH18.3': 0.0011335669675293163, 'CD53': 0.0011076488511325574, 'CPLX3': 0.001094544952408591, 'CALB2.1': 0.0010892971990764154, 'TNS3': 0.0010861922070196789, 'KCNK2': 0.0010851112563866235, 'INPP5D': 0.0010827349690682954, 'WIF1': 0.0010817728383705275, 'WIF1.2': 0.0010633583177167404, 'PLCXD3': 0.0010631163631624207, 'LAMA3.3': 0.001063032550231322, 'ST6GAL2': 0.0010623479599427784, 'BCHE.1': 0.0010494900600059845, 'C10ORF90': 0.0010476830330467442, 'DISC1': 0.0010451912452224348, 'C1QC': 0.0010426346014453971, 'SOX5.2': 0.0010413370830410402, 'ARHGAP18.1': 0.0010346204488905684, 'LINC00595': 0.0010327388880238004, 'EPHB6.2': 0.0010190346712721937, 'LINC01435.1': 0.0010190297886519541, 'IL1RAP': 0.0009968500933632235, 'SPHKAP': 0.0009933626318980628, 'PCDH18.2': 0.0009715457010774175, 'SOX5.1': 0.0009623890325256676, 'DCN.2': 0.000959220978308121, 'TOX': 0.0009536609466820167, 'MCTP2': 0.0009253873094686086, 'PKP2': 0.0009173371059464094, 'INPP5D.1': 0.0009072228505262281, 'TBL1X.1': 0.0009047186060892346, 'CA8': 0.000904712817515939, 'LINC01435': 0.0008916470863757672, 'GJA1': 0.0008910851309644135, 'TRBC2': 0.0008878000158234442, 'MYO1B': 0.0008816360591929997, 'COBL': 0.000881167881606015, 'MAML3': 0.000881121012861768, 'TMEM200C.1': 0.000876602512805205, 'ASIC4.1': 0.0008764093154464242, 'LINC01411.2': 0.0008733324109176407, 'NFIA': 0.0008686991885459982, 'SCML4': 0.0008680957611129604, 'LAMA1': 0.0008522207063305895, 'SEMA3C.1': 0.0008510293917545638, 'CA2.1': 0.0008344581582924451, 'RNASE1': 0.0008291907404509773, 'GREM2': 0.0008239914737037217, 'GLI3': 0.0008239789961997029, 'HIF3A.1': 0.0008228470748082716, 'MPPED1': 0.0008201355956524391, 'LRRC3B': 0.0008185383619871524, 'TMEM196': 0.0008168439937321362, 'POU6F2.1': 0.000813995505523736, 'SMOC1': 0.0007970607953805756, 'HCRTR2.2': 0.0007956656671413191, 'ADAMTS17': 0.0007945828401403275, 'TRIM36': 0.0007867366611757137, 'NR2F2': 0.0007826396986877344, 'TMEM196.1': 0.0007802182063470653, 'PTHLH.1': 0.0007680613423313746, 'NR2F2AS1': 0.0007648393501424229, 'SYP': 0.0007504835124158827, 'FLI1.1': 0.0007496538141983446, 'COL5A2': 0.0007451174921640242, 'LINC00639.2': 0.0007427776025501297, 'LHFPL3.AS1': 0.0007417704073790264, 'BAGE2': 0.0007376920420897576, 'PTPRZ1': 0.0007357052499881188, 'EGF.2': 0.000735349294369467, 'FLT3': 0.000726887702234076, 'SYT10': 0.0007248077004852705, 'C8ORF4': 0.0007242443429820416, 'CA8.1': 0.0007232293187442872, 'HCRTR2.3': 0.0007163743470370802, 'MCTP2.1': 0.0007119349724670942, 'ZBTB20.AS1.1': 0.0007076323461227154, 'LHFP.2': 0.000703727512537394, 'ARHGAP18': 0.0006992324680601765, 'CERCAM': 0.0006946145818832149, 'ST18': 0.0006884432581556443, 'RGS16': 0.0006883239934242923, 'CHRM2': 0.0006869984670983454, 'WIF1.1': 0.0006822906160827824, 'LINC00511.1': 0.000681487669613969, 'FAM107B': 0.000674904514833243, 'MCTP2.2': 0.0006731557422180861, 'CALB1': 0.0006678990412595509, 'PLCXD3.1': 0.0006670949295020864, 'GNG4': 0.0006664675487015725, 'TRPC3': 0.0006638863831582105, 'PCDH18': 0.0006624190160720428, 'BAGE2.4': 0.0006622496904138043, 'VAT1L': 0.0006489937408672735, 'ARHGAP36.2': 0.0006467705288922104, 'ETNPPL': 0.0006438979230720818, 'IGSF3': 0.0006397106021088932, 'S100B': 0.0006388090874144354, 'CD36': 0.0006367687962522624, 'VWC2L.IT1.1': 0.0006354526499201364, 'HCRTR2.1': 0.0006298293555995253, 'PRODH': 0.0006265391196265003, 'EDNRA': 0.0006258782649791382, 'HSPB8': 0.0006191102072681076, 'PCDH18.1': 0.0006182090897055928, 'ADRA1B': 0.0006161389970724144, 'KITLG': 0.0006041666599804572, 'BCHE': 0.0005959467225606431, 'CA3': 0.000595789817515967, 'RANBP3L': 0.0005938914693995572, 'CDH7': 0.0005935326021841362, 'EDNRA.2': 0.0005922809920105567, 'DPF3': 0.0005913726956006619, 'ERMN': 0.0005869862192039466, 'UNC5B': 0.0005839329284391026, 'CHST15': 0.0005818782077498417, 'KIAA1644': 0.0005807765304248067, 'OLIG1': 0.0005792581413320496, 'ARHGAP18.2': 0.0005781093364414317, 'FAM196A': 0.0005743511882922449, 'LRRC3B.1': 0.0005723516482406001, 'NINJ2': 0.0005718905457970155, 'HEPACAM.1': 0.0005713200135096851, 'TPD52L1': 0.0005674394290284002, 'LINC00511': 0.0005650221110332173, 'DCN.3': 0.0005502145273630627, 'NPR3': 0.0005501767610013407, 'IGFBP5': 0.0005439519967539359, 'MTSS1L': 0.0005429740201225436, 'UGT8.2': 0.0005405261105885212, 'PTGFR': 0.0005397574827028463, 'PRELID2': 0.0005384630676879738, 'CNTNAP3': 0.0005375363584433438, 'KIAA1644.1': 0.0005356997183851598, 'BCAS1.1': 0.0005308416146529897, 'GPR37L1': 0.0005246728266226355, 'GPNMB.1': 0.0005166474190604052, 'GRAMD3': 0.0005131694996936052, 'PTPRS': 0.0005092787062019762, 'PAMR1': 0.0005088697810596134, 'COL12A1': 0.0005072650946275205, 'APOD': 0.0005060741221764589, 'EGF.1': 0.0005011988973445205, 'EGF': 0.0005003459503533527, 'PTPRS.1': 0.0004988494984003263, 'TAC3.1': 0.0004964490409715439, 'RAB37': 0.0004932604978121868, 'MMRN2.1': 0.000486927894901437, 'S100B.1': 0.0004843027046726944, 'ADAM33.2': 0.00048405316218703623, 'HIP1R': 0.00048289256625709434, 'APOD.1': 0.0004820999673184508, 'PON2': 0.0004742952020594198, 'MMRN2': 0.0004739188376052709, 'FAM19A4.1': 0.0004719645876735811, 'TAC3': 0.0004656763738197545, 'NR2F2.1': 0.0004637377059017785, 'ZBTB20.AS1.2': 0.0004634528730382013, 'EPHB6.1': 0.00045773187525764675, 'MEGF10.1': 0.0004548210142880306, 'CHRM2.1': 0.0004544613337904357, 'ID2': 0.00045367331303728547, 'RORB': 0.0004529183966647981, 'TNS3.2': 0.0004527843925862978, 'SAMD5.2': 0.00044855857960454404, 'COL16A1.1': 0.0004485183088114454, 'FAM135B': 0.0004467935267430991, 'TRIM36.1': 0.00044652096116356183, 'BCAN': 0.00044583785471573805, 'MMRN2.3': 0.0004454926721299635, 'IQGAP2.2': 0.00044298280315387963, 'LAMA3': 0.0004420524661040282, 'FGFR2': 0.0004343000765890312, 'LINC00498': 0.0004342009248863474, 'RASGRF2AS1': 0.00042674434782509246, 'ADAMTS9.AS2': 0.0004242873319019603, 'MC4R.3': 0.0004186977768451417, 'IQGAP2.1': 0.0004185956115486014, 'BCAS1.3': 0.00041055659731233633, 'OLIG1.2': 0.0004105362329588184, 'MOBP': 0.00041014475620999863, 'C10ORF90.1': 0.0004095124412863699, 'TNS3.1': 0.0004022166100529684, 'ARHGAP36': 0.00040052620172837614, 'CLMP': 0.0003917562413204055, 'ALDH1L1': 0.00038976694032834345, 'PCDH9.AS1': 0.00038576313489035465, 'IQGAP2': 0.00037179895730182874, 'NRG1.IT1': 0.0003706537645747172, 'SCML4.2': 0.0003639926715879658, 'HLA.B': 0.00035725532219604817, 'ELN': 0.0003547295589211035, 'CXCL12.1': 0.00035141940576901816, 'LHFP': 0.00034690395929708585, 'LGI2.2': 0.00034600079900283217, 'SAMD5.1': 0.0003436076207010807, 'OPRK1': 0.00032899491206993996, 'DPYSL3': 0.00032538535681233264, 'PDZRN4': 0.00030810458553588537, 'CHRNB3': 0.0003027869685919621, 'LAMA3.2': 0.0003024450576253653, 'LGI2': 0.00030099164504316045, 'STK32A': 0.00030093906658390946, 'SSTR2': 0.0003007838223854599, 'CD22': 0.00029975517448072215, 'MAL': 0.00029839470809980666, 'KCNK2.1': 0.0002979300222362462, 'COL9A1': 0.0002975971226731781, 'HEPN1': 0.00029717504038200845, 'GPR39': 0.0002965489847526053, 'ABCB5': 0.00029167121684230173, 'CARNS1': 0.00029163170480593355, 'SAMD5': 0.00029091673308449535, 'EMX2OS': 0.00029059457665126675, 'PAX6.1': 0.0002901915801002371, 'MMRN2.2': 0.0002900845642166643, 'SOX13': 0.00028601794237467874, 'FERMT1': 0.00028092561084796516, 'LINC00856': 0.0002807058222861345, 'SLCO1C1': 0.0002778973052818763, 'RGS8': 0.00026885236108099695, 'DCN.4': 0.00026238155367396226, 'GRPR': 0.00026121459829765936, 'CHRNA2.2': 0.0002590069459456561, 'SCML4.1': 0.0002570098495724208, 'NTNG1.1': 0.0002546235692509494, 'ADRA1B.1': 0.0002535355626431092, 'BCAS1': 0.0002535355626431091, 'BAGE2.3': 0.0002500676856902351, 'LINC01411.1': 0.0002493811531467471, 'TRPC3.1': 0.00024555545838619126, 'EZR': 0.00024339414013738793, 'COL16A1': 0.00021396181555442264, 'LAMA3.1': 0.00020282845011448573, 'GFRA1': 0.00020213473530760983, 'SNCG.2': 0.00019836831774349087, 'PAX6': 0.00019836831774349057, 'COL5A2.1': 0.00019763057433522618, 'PAPSS2.1': 0.0001928270822457403, 'ARHGAP29': 0.0001521213375858669, 'TMEM200C': 0.00014336216794712698, 'LINC00923': 0.00013893276342482296, 'MEGF11': 0.00013572505965264963, 'PLXNB3': 0.00013451649638239943, 'LRP4.AS1': 1.4807182181583256e-05, 'VWC2L.IT1': 1.1934534407221618e-05, 'SNCG.1': 1.039243042886214e-05, 'KANK1': 0.0, 'ZCCHC24': 0.0, 'UGT8': 0.0, 'LINC00639': 0.0, 'PTHLH': 0.0, 'CHRNA2': 0.0, 'ADAM33': 0.0, 'DCN': 0.0, 'DCN.1': 0.0, 'TMEM200C.2': 0.0, 'SP8': 0.0, 'NTNG1': 0.0, 'CA2': 0.0, 'EGF.3': 0.0, 'NKAIN3': 0.0, 'NPFFR1': 0.0, 'GPR149': 0.0, 'CHRNA2.1': 0.0, 'MC4R': 0.0, 'CXCL12': 0.0, 'ADAM33.1': 0.0, 'CHRNB3.1': 0.0, 'TSPAN12': 0.0, 'SNCG': 0.0, 'PPAPDC1A': 0.0, 'SLC7A2': 0.0, 'TSPAN12.1': 0.0, 'MC4R.1': 0.0, 'SLC5A8': 0.0, 'TSPAN12.2': 0.0, 'PPAPDC1A.1': 0.0, 'BCAS1.2': 0.0, 'MC4R.2': 0.0, 'ADAM33.3': 0.0, 'RAMP1': 0.0, 'SNCG.3': 0.0, 'LAMA3.4': 0.0, 'HEPN1.1': 0.0, 'OLIG1.1': 0.0, 'BCAS1.4': 0.0, 'UGT8.1': 0.0, 'LINC00639.1': 0.0, 'CNDP1': 0.0, 'FOLH1': 0.0, 'MOG': 0.0, 'OPALIN': 0.0, 'MAG': 0.0, 'MYRF': 0.0, 'TMC6': 0.0, 'LRP4.AS1.1': 0.0, 'GPNMB': 0.0, 'LINC00499.1': 0.0, 'COL20A1': 0.0, 'PAPLN': 0.0, 'SLC25A18': 0.0, 'OLIG2': 0.0, 'BCHE.2': 0.0, 'BCAS1.5': 0.0, 'KLRC3': 0.0, 'CSPG4': 0.0}\n"
     ]
    }
   ],
   "source": [
    "# Get importances\n",
    "importances = model.feature_importances_\n",
    "# Standardize Importances\n",
    "std = np.std([tree.feature_importances_ for tree in model.estimators_], axis=0)\n",
    "feature_names = list(x_train.columns)\n",
    "features_arr = [{key: val} for key, val in zip(feature_names, std)]\n",
    "# convert to single dictionary\n",
    "result = {}\n",
    "for feature in features_arr:\n",
    "    result.update(feature)\n",
    "\n",
    "\n",
    "\n",
    "features_dict = result\n",
    "print(type(feature_dict))\n",
    "\n",
    "feature_rankings = {k: v for k, v in sorted(features_dict.items(), key=lambda item: item[1], reverse=True)}\n",
    "print(feature_rankings)"
   ]
  },
  {
   "cell_type": "code",
   "execution_count": 97,
   "id": "7fbba2c3-309f-454e-9f9f-64aa6cbe03de",
   "metadata": {},
   "outputs": [
    {
     "data": {
      "image/png": "[encoded data removed]",
      "text/plain": [
       "<Figure size 640x480 with 1 Axes>"
      ]
     },
     "metadata": {},
     "output_type": "display_data"
    }
   ],
   "source": [
    "\n",
    "importances = model.feature_importances_\n",
    "forest_importances = pd.Series(importances, index=feature_names)\n",
    "fig, ax = plt.subplots()\n",
    "forest_importances.plot.bar(yerr=std, ax=ax)\n",
    "ax.set_title(\"Feature importances using MDI\")\n",
    "ax.set_ylabel(\"Mean decrease in impurity\")\n",
    "fig.tight_layout()"
   ]
  },
  {
   "cell_type": "markdown",
   "id": "a0c04fd4-0f24-4d83-885e-51bf1d236219",
   "metadata": {},
   "source": [
    "### Accuracy"
   ]
  },
  {
   "cell_type": "code",
   "execution_count": 13,
   "id": "50f7c6bf-ef65-4c1d-a2cd-7ed7da8a34bb",
   "metadata": {},
   "outputs": [
    {
     "name": "stdout",
     "output_type": "stream",
     "text": [
      "Accuracy is: 1.0\n"
     ]
    }
   ],
   "source": [
    "ac = accuracy_score(predict, y_test)\n",
    "print('Accuracy is:', ac)"
   ]
  },
  {
   "cell_type": "markdown",
   "id": "4665c036-0a95-4f2a-8639-cc43626464e3",
   "metadata": {},
   "source": [
    "### F1 Score"
   ]
  },
  {
   "cell_type": "code",
   "execution_count": 14,
   "id": "4d9443c8-8ff7-4670-8d2e-7421d5ff33e4",
   "metadata": {},
   "outputs": [
    {
     "data": {
      "text/plain": [
       "1.0"
      ]
     },
     "execution_count": 14,
     "metadata": {},
     "output_type": "execute_result"
    }
   ],
   "source": [
    "f1_score(y_test, predict)"
   ]
  },
  {
   "cell_type": "markdown",
   "id": "56280618-9364-43f3-8c50-1ede246ccce5",
   "metadata": {},
   "source": [
    "### Precision and Recall"
   ]
  },
  {
   "cell_type": "code",
   "execution_count": 45,
   "id": "eab9bbe4-4fd9-480f-998a-4027cc6905dd",
   "metadata": {},
   "outputs": [
    {
     "name": "stdout",
     "output_type": "stream",
     "text": [
      "[1. 1.]\n",
      "[1. 1.]\n",
      "[1. 1.]\n",
      "[147  71]\n"
     ]
    }
   ],
   "source": [
    "for score in precision_recall_fscore_support(y_test, predict):\n",
    "    print(score)\n"
   ]
  },
  {
   "cell_type": "code",
   "execution_count": 17,
   "id": "41b9d207-2802-4f92-9e62-6f4c51af5299",
   "metadata": {},
   "outputs": [
    {
     "data": {
      "text/plain": [
       "0.9938744257274119"
      ]
     },
     "execution_count": 17,
     "metadata": {},
     "output_type": "execute_result"
    }
   ],
   "source": [
    "model.oob_score_"
   ]
  },
  {
   "cell_type": "code",
   "execution_count": 32,
   "id": "3f7d70e7-9251-4b6d-a285-8199e79b878b",
   "metadata": {},
   "outputs": [
    {
     "name": "stdout",
     "output_type": "stream",
     "text": [
      "653\n"
     ]
    },
    {
     "data": {
      "text/plain": [
       "218"
      ]
     },
     "execution_count": 32,
     "metadata": {},
     "output_type": "execute_result"
    }
   ],
   "source": [
    "print(len(model.oob_decision_function_))"
   ]
  },
  {
   "cell_type": "code",
   "execution_count": null,
   "id": "66d5626e-d0d5-4b73-844d-b8a15261b9b9",
   "metadata": {},
   "outputs": [],
   "source": [
    "length = len(x_test)\n",
    "y_pred = []\n",
    "cm = confusion_matrix(y_test, y_pred, lbels=model.classes_, normalize=None)\n",
    "disp = ConfusionMatrixDisplay"
   ]
  }
 ],
 "metadata": {
  "kernelspec": {
   "display_name": "Python 3 (ipykernel)",
   "language": "python",
   "name": "python3"
  },
  "language_info": {
   "codemirror_mode": {
    "name": "ipython",
    "version": 3
   },
   "file_extension": ".py",
   "mimetype": "text/x-python",
   "name": "python",
   "nbconvert_exporter": "python",
   "pygments_lexer": "ipython3",
   "version": "3.10.7"
  }
 },
 "nbformat": 4,
 "nbformat_minor": 5
}
